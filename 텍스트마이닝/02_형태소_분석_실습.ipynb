{
  "nbformat": 4,
  "nbformat_minor": 0,
  "metadata": {
    "colab": {
      "provenance": [],
      "include_colab_link": true
    },
    "kernelspec": {
      "name": "python3",
      "display_name": "Python 3"
    },
    "language_info": {
      "name": "python"
    }
  },
  "cells": [
    {
      "cell_type": "markdown",
      "metadata": {
        "id": "view-in-github",
        "colab_type": "text"
      },
      "source": [
        "<a href=\"https://colab.research.google.com/github/dudgus1286/pandas/blob/main/%ED%85%8D%EC%8A%A4%ED%8A%B8%EB%A7%88%EC%9D%B4%EB%8B%9D/02_%ED%98%95%ED%83%9C%EC%86%8C_%EB%B6%84%EC%84%9D_%EC%8B%A4%EC%8A%B5.ipynb\" target=\"_parent\"><img src=\"https://colab.research.google.com/assets/colab-badge.svg\" alt=\"Open In Colab\"/></a>"
      ]
    },
    {
      "cell_type": "markdown",
      "source": [
        "# 형태소 분석\n",
        "> **텍스트를 가장 작은 의미인 형태소로 분해하는 과정**\n",
        "\n",
        "> 형태소(Morpheme) : 의미를 가진 작은 언어 단위\n",
        "  - 종류\n",
        "    - 실질형태소 : 명사, 동사, 형용사, 부사\n",
        "    - 형식형태소 : 조사, 어미 (ex : ~에, ~는, ~은, ~가, ~다)\n",
        "\n",
        "> **형태소 분석 과정**\n",
        "- 분해 : 한국어 문장을 어절(띄어쓰기로 구분된 각각의 단어) 단위로 분해\n",
        "- 형태소 분석 : 각 어절을 형태소로 세분화(어근, 접미사, 접두사, 조사 등으로 구분)\n",
        "- 품사 태깅(POS Tagging) : 분리된 형태소에 품사 정보 부여(명사, 동사, 형용사 등으로 구분)\n",
        "\n",
        "> **형태소 분석의 중요성**\n",
        "- 정확한 의미 파악(한국어은 하나의 어절이 복잡한 의미를 내포하기 때문)\n",
        "- 자연어 처리의 기초\n",
        "- 문맥 이해\n",
        "\n"
      ],
      "metadata": {
        "id": "uNWEk4HhLo2L"
      }
    },
    {
      "cell_type": "markdown",
      "source": [
        "## KoNLPy 개요\n",
        "\n",
        "* KoNLPy (코엔엘파이):\n",
        "    * [KoNLPy: 파이썬 한국어 NLP — KoNLPy documentation](https://konlpy.org/ko/latest/)\n",
        "    * [형태소 분석 및 품사 태깅 — KoNLPy 0.4.3 documentation](https://konlpy-ko.readthedocs.io/ko/v0.4.3/morph/)\n",
        "    * 파이썬 기반의 라이브러리로, 한국어 텍스트의 형태소 분석, 품사 태깅 등을 제공\n",
        "    * **여러 한국어 형태소 분석 엔진을 통합하여 사용할 수 있으며, 대표적으로 Okt(Open Korean Text), Mecab, Komoran, Hannanum, Kkma 등이 있다.**\n",
        "\n",
        "    * Okt (Open Korean Text, 이전의 Twitter 형태소 분석기):\n",
        "        * 속도가 빠르고 사용하기 쉽다\n",
        "        * 일상적인 언어, 특히 소셜 미디어 텍스트 분석에 적합.\n",
        "    * Mecab:\n",
        "        * 은전한닢으로도 불리우며 일본어 형태소 분석기를 기반으로 한국어를 처리하기 위해 수정된 버전.\n",
        "        * 설치가 까다롭기 때문에 파이썬으로 만들어진 Pecab을 사용하는 것을 추천.\n",
        "    * Komoran:\n",
        "        * 정확도가 높으며, 특히 잘못된 맞춤법이나 띄어쓰기가 있는 텍스트에 강점.\n",
        "    * Hannanum:\n",
        "        * KAIST에서 개발한 분석기로, 학술적인 목적.\n",
        "    * Kkma (꼬꼬마):\n",
        "        * [꼬꼬마 세종 말뭉치 활용 시스템](http://kkma.snu.ac.kr/)\n",
        "        * 상세한 형태소 분석과 품사 태깅 기능을 제공.\n",
        "\n",
        "## KoNLPy 외\n",
        "\n",
        "* Pecab\n",
        "    * [Pecab: Pure python Korean morpheme analyzer based on Mecab (https://github.com/hyunwoongko/pecab)\n",
        "* Soynlp(비지도 학습)\n",
        "    * https://github.com/lovit/soynlp"
      ],
      "metadata": {
        "id": "_dsBd_s1NjXx"
      }
    },
    {
      "cell_type": "markdown",
      "source": [
        "## KoNLPy 설치\n",
        "\n",
        "```sh\n",
        "pip install --upgrade pip\n",
        "pip install JPype1 (파이썬에서 자바를 사용할 수 있도록 하는 도구)\n",
        "pip install konlpy --upgrade\n",
        "```\n",
        "\n",
        "아래의 조건을 만족해야 설치 됨\n",
        "```\n",
        "1) 최신 버전의 JAVA(JDK)를 설치\n",
        "2) JAVA_HOME 환경변수를 추가\n",
        "3) path 환경변수에 %JAVA_HOME%\\bin; 추가\n",
        "```"
      ],
      "metadata": {
        "id": "XyqRnRSIRgt9"
      }
    },
    {
      "cell_type": "code",
      "source": [
        "# 구글 코랩에서는 아래의 구문만 실행하면 됨\n",
        "\n",
        "!pip install konlpy --upgrade"
      ],
      "metadata": {
        "id": "eEXEB57eRcwa",
        "colab": {
          "base_uri": "https://localhost:8080/"
        },
        "outputId": "72a02dd3-7898-41c7-e84b-846e8304ac0b"
      },
      "execution_count": 1,
      "outputs": [
        {
          "output_type": "stream",
          "name": "stdout",
          "text": [
            "Collecting konlpy\n",
            "  Downloading konlpy-0.6.0-py2.py3-none-any.whl (19.4 MB)\n",
            "\u001b[2K     \u001b[90m━━━━━━━━━━━━━━━━━━━━━━━━━━━━━━━━━━━━━━━━\u001b[0m \u001b[32m19.4/19.4 MB\u001b[0m \u001b[31m27.6 MB/s\u001b[0m eta \u001b[36m0:00:00\u001b[0m\n",
            "\u001b[?25hCollecting JPype1>=0.7.0 (from konlpy)\n",
            "  Downloading JPype1-1.5.0-cp310-cp310-manylinux_2_17_x86_64.manylinux2014_x86_64.whl (488 kB)\n",
            "\u001b[2K     \u001b[90m━━━━━━━━━━━━━━━━━━━━━━━━━━━━━━━━━━━━━━━━\u001b[0m \u001b[32m488.6/488.6 kB\u001b[0m \u001b[31m33.7 MB/s\u001b[0m eta \u001b[36m0:00:00\u001b[0m\n",
            "\u001b[?25hRequirement already satisfied: lxml>=4.1.0 in /usr/local/lib/python3.10/dist-packages (from konlpy) (4.9.4)\n",
            "Requirement already satisfied: numpy>=1.6 in /usr/local/lib/python3.10/dist-packages (from konlpy) (1.25.2)\n",
            "Requirement already satisfied: packaging in /usr/local/lib/python3.10/dist-packages (from JPype1>=0.7.0->konlpy) (24.1)\n",
            "Installing collected packages: JPype1, konlpy\n",
            "Successfully installed JPype1-1.5.0 konlpy-0.6.0\n"
          ]
        }
      ]
    },
    {
      "cell_type": "code",
      "source": [
        "import pandas as pd\n",
        "\n",
        "# 형태소 분석기 로드\n",
        "from konlpy.tag import Kkma\n",
        "from konlpy.tag import Okt\n",
        "from konlpy.tag import Komoran"
      ],
      "metadata": {
        "id": "pwvY4g0o0m9l"
      },
      "execution_count": 2,
      "outputs": []
    },
    {
      "cell_type": "code",
      "source": [
        "small_text=\"버스의 운행시간을 문의합니다. 어?!\"\n",
        "small_text"
      ],
      "metadata": {
        "id": "Yct4w__V0jkg",
        "colab": {
          "base_uri": "https://localhost:8080/",
          "height": 35
        },
        "outputId": "88a9841a-85ff-4f32-b7fe-e7c353982238"
      },
      "execution_count": 3,
      "outputs": [
        {
          "output_type": "execute_result",
          "data": {
            "text/plain": [
              "'버스의 운행시간을 문의합니다. 어?!'"
            ],
            "application/vnd.google.colaboratory.intrinsic+json": {
              "type": "string"
            }
          },
          "metadata": {},
          "execution_count": 3
        }
      ]
    },
    {
      "cell_type": "code",
      "source": [
        "# 꼬꼬마 명사 추출 nouns() 명사 추출\n",
        "kkma = Kkma()\n",
        "\n",
        "kkma.nouns(small_text)"
      ],
      "metadata": {
        "id": "ikJ0pcAVSyJ7",
        "colab": {
          "base_uri": "https://localhost:8080/"
        },
        "outputId": "2691f1bc-f6c9-4f70-8a09-dbf685522c7a"
      },
      "execution_count": 4,
      "outputs": [
        {
          "output_type": "execute_result",
          "data": {
            "text/plain": [
              "['버스', '운행', '운행시간', '시간', '문의']"
            ]
          },
          "metadata": {},
          "execution_count": 4
        }
      ]
    },
    {
      "cell_type": "code",
      "source": [
        "# morphs() 형태소 추출\n",
        "kkma.morphs(small_text)"
      ],
      "metadata": {
        "id": "IKbAOcd_OWVq",
        "colab": {
          "base_uri": "https://localhost:8080/"
        },
        "outputId": "bf824a21-a2d8-4f06-c596-6880f33beac7"
      },
      "execution_count": 5,
      "outputs": [
        {
          "output_type": "execute_result",
          "data": {
            "text/plain": [
              "['버스', '의', '운행', '시간', '을', '문의', '하', 'ㅂ니다', '.', '어', '어', '?', '!']"
            ]
          },
          "metadata": {},
          "execution_count": 5
        }
      ]
    },
    {
      "cell_type": "code",
      "source": [
        "# pos() 품사 태깅\n",
        "# 형태소 추출 후 태깅하는 방식\n",
        "kkma.pos(small_text)"
      ],
      "metadata": {
        "colab": {
          "base_uri": "https://localhost:8080/"
        },
        "id": "wPjhGLEYNOdN",
        "outputId": "219e34d5-aa12-4e9e-c696-654a52178fed"
      },
      "execution_count": 6,
      "outputs": [
        {
          "output_type": "execute_result",
          "data": {
            "text/plain": [
              "[('버스', 'NNG'),\n",
              " ('의', 'JKG'),\n",
              " ('운행', 'NNG'),\n",
              " ('시간', 'NNG'),\n",
              " ('을', 'JKO'),\n",
              " ('문의', 'NNG'),\n",
              " ('하', 'VV'),\n",
              " ('ㅂ니다', 'EFN'),\n",
              " ('.', 'SF'),\n",
              " ('어', 'VV'),\n",
              " ('어', 'ECS'),\n",
              " ('?', 'SF'),\n",
              " ('!', 'SF')]"
            ]
          },
          "metadata": {},
          "execution_count": 6
        }
      ]
    },
    {
      "cell_type": "code",
      "source": [
        "# 품사 태깅 확인\n",
        "\n",
        "kkma.tagset"
      ],
      "metadata": {
        "collapsed": true,
        "id": "FynxgVTxTNgo",
        "colab": {
          "base_uri": "https://localhost:8080/"
        },
        "outputId": "7c2efd18-2362-4fd1-da0b-f67ec72ef437"
      },
      "execution_count": 7,
      "outputs": [
        {
          "output_type": "execute_result",
          "data": {
            "text/plain": [
              "{'EC': '연결 어미',\n",
              " 'ECD': '의존적 연결 어미',\n",
              " 'ECE': '대등 연결 어미',\n",
              " 'ECS': '보조적 연결 어미',\n",
              " 'EF': '종결 어미',\n",
              " 'EFA': '청유형 종결 어미',\n",
              " 'EFI': '감탄형 종결 어미',\n",
              " 'EFN': '평서형 종결 어미',\n",
              " 'EFO': '명령형 종결 어미',\n",
              " 'EFQ': '의문형 종결 어미',\n",
              " 'EFR': '존칭형 종결 어미',\n",
              " 'EP': '선어말 어미',\n",
              " 'EPH': '존칭 선어말 어미',\n",
              " 'EPP': '공손 선어말 어미',\n",
              " 'EPT': '시제 선어말 어미',\n",
              " 'ET': '전성 어미',\n",
              " 'ETD': '관형형 전성 어미',\n",
              " 'ETN': '명사형 전성 어미',\n",
              " 'IC': '감탄사',\n",
              " 'JC': '접속 조사',\n",
              " 'JK': '조사',\n",
              " 'JKC': '보격 조사',\n",
              " 'JKG': '관형격 조사',\n",
              " 'JKI': '호격 조사',\n",
              " 'JKM': '부사격 조사',\n",
              " 'JKO': '목적격 조사',\n",
              " 'JKQ': '인용격 조사',\n",
              " 'JKS': '주격 조사',\n",
              " 'JX': '보조사',\n",
              " 'MA': '부사',\n",
              " 'MAC': '접속 부사',\n",
              " 'MAG': '일반 부사',\n",
              " 'MD': '관형사',\n",
              " 'MDN': '수 관형사',\n",
              " 'MDT': '일반 관형사',\n",
              " 'NN': '명사',\n",
              " 'NNB': '일반 의존 명사',\n",
              " 'NNG': '보통명사',\n",
              " 'NNM': '단위 의존 명사',\n",
              " 'NNP': '고유명사',\n",
              " 'NP': '대명사',\n",
              " 'NR': '수사',\n",
              " 'OH': '한자',\n",
              " 'OL': '외국어',\n",
              " 'ON': '숫자',\n",
              " 'SE': '줄임표',\n",
              " 'SF': '마침표, 물음표, 느낌표',\n",
              " 'SO': '붙임표(물결,숨김,빠짐)',\n",
              " 'SP': '쉼표,가운뎃점,콜론,빗금',\n",
              " 'SS': '따옴표,괄호표,줄표',\n",
              " 'SW': '기타기호 (논리수학기호,화폐기호)',\n",
              " 'UN': '명사추정범주',\n",
              " 'VA': '형용사',\n",
              " 'VC': '지정사',\n",
              " 'VCN': \"부정 지정사, 형용사 '아니다'\",\n",
              " 'VCP': \"긍정 지정사, 서술격 조사 '이다'\",\n",
              " 'VV': '동사',\n",
              " 'VX': '보조 용언',\n",
              " 'VXA': '보조 형용사',\n",
              " 'VXV': '보조 동사',\n",
              " 'XP': '접두사',\n",
              " 'XPN': '체언 접두사',\n",
              " 'XPV': '용언 접두사',\n",
              " 'XR': '어근',\n",
              " 'XSA': '형용사 파생 접미사',\n",
              " 'XSN': '명사파생 접미사',\n",
              " 'XSV': '동사 파생 접미사'}"
            ]
          },
          "metadata": {},
          "execution_count": 7
        }
      ]
    },
    {
      "cell_type": "code",
      "source": [
        "for txt, pos in kkma.pos(small_text):\n",
        "  print(txt, \" : \", kkma.tagset[pos])"
      ],
      "metadata": {
        "id": "Pono_bnvTi5t",
        "colab": {
          "base_uri": "https://localhost:8080/"
        },
        "outputId": "0db42f6c-c014-42bc-8a6c-4b1e5b6a79b2"
      },
      "execution_count": 8,
      "outputs": [
        {
          "output_type": "stream",
          "name": "stdout",
          "text": [
            "버스  :  보통명사\n",
            "의  :  관형격 조사\n",
            "운행  :  보통명사\n",
            "시간  :  보통명사\n",
            "을  :  목적격 조사\n",
            "문의  :  보통명사\n",
            "하  :  동사\n",
            "ㅂ니다  :  평서형 종결 어미\n",
            ".  :  마침표, 물음표, 느낌표\n",
            "어  :  동사\n",
            "어  :  보조적 연결 어미\n",
            "?  :  마침표, 물음표, 느낌표\n",
            "!  :  마침표, 물음표, 느낌표\n"
          ]
        }
      ]
    },
    {
      "cell_type": "markdown",
      "source": [
        "### 어간 추출(語幹 抽出, 영어: stemming)\n",
        "\n",
        "형태론 및 정보 검색 분야에서 어형이 변형된 단어로부터 접사 등을 제거하고 그 단어의 어간을 분리해 내는 것을 의미한다. 여기서 어간은 반드시 어근과 같아야 할 필요는 없으며, 어근과 차이가 있더라도 관련이 있는 단어들이 일정하게 동일한 어간으로 맵핑되게 하는 것이 어간 추출의 목적이다. 1960년대부터 컴퓨터 과학 분야에서 다양한 어간 추출 관련 알고리즘들이 연구되어 왔다. 많은 웹 검색 엔진들은 동일한 어간을 가진 단어들을 동의어로 취급하는 방식으로 질의어 확장을 하여 검색 결과의 품질을 높인다.\n",
        "\n",
        "어간 추출 프로그램은 흔히 스테밍 알고리즘(stemming algorithm) 또는 스테머(stemmer)라 불린다.\n",
        "\n",
        "* [어간 추출 - 위키백과, 우리 모두의 백과사전](https://ko.wikipedia.org/wiki/%EC%96%B4%EA%B0%84_%EC%B6%94%EC%B6%9C)"
      ],
      "metadata": {
        "id": "xmLJBuKwUS7n"
      }
    },
    {
      "cell_type": "markdown",
      "source": [
        "Okt\n",
        "- normalize=True\n",
        "\n",
        "![image.png](data:image/png;base64,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)\n",
        "\n",
        "- stem=True\n",
        "  - '했습니다', '합니다', '한다' 이런 동사들을 원형 하나로 복원해 줌"
      ],
      "metadata": {
        "id": "RSrmi-uSVlay"
      }
    },
    {
      "cell_type": "code",
      "source": [
        "# 어간 추출 기능을 가지고 있는 Okt 사용\n",
        "okt = Okt()\n",
        "\n",
        "print(okt.nouns(small_text))\n",
        "print(okt.pos(small_text))\n",
        "print(okt.pos(u'이것도 되나욬ㅋㅋ'))\n",
        "print(okt.pos(u'이것도 되나욬ㅋㅋ', norm=True))\n",
        "print(okt.pos(u'이것도 되나욬ㅋㅋ', norm=True, stem=True))"
      ],
      "metadata": {
        "id": "-iiLfvFIOpQK",
        "colab": {
          "base_uri": "https://localhost:8080/"
        },
        "outputId": "55b3dbc4-3a1f-40fb-e952-f6892af40a0d"
      },
      "execution_count": 20,
      "outputs": [
        {
          "output_type": "stream",
          "name": "stdout",
          "text": [
            "['버스', '운행', '시간', '문의']\n",
            "[('버스', 'Noun'), ('의', 'Josa'), ('운행', 'Noun'), ('시간', 'Noun'), ('을', 'Josa'), ('문의', 'Noun'), ('합니다', 'Verb'), ('.', 'Punctuation'), ('어', 'Eomi'), ('?!', 'Punctuation')]\n",
            "[('이', 'Determiner'), ('것', 'Noun'), ('도', 'Josa'), ('되나욬', 'Noun'), ('ㅋㅋ', 'KoreanParticle')]\n",
            "[('이', 'Determiner'), ('것', 'Noun'), ('도', 'Josa'), ('되나요', 'Verb'), ('ㅋㅋ', 'KoreanParticle')]\n",
            "[('이', 'Determiner'), ('것', 'Noun'), ('도', 'Josa'), ('되다', 'Verb'), ('ㅋㅋ', 'KoreanParticle')]\n"
          ]
        }
      ]
    },
    {
      "cell_type": "code",
      "source": [
        "okt.tagset"
      ],
      "metadata": {
        "id": "yGMxaE_oTi1W",
        "colab": {
          "base_uri": "https://localhost:8080/"
        },
        "outputId": "c5b64525-7b1b-4841-857a-99077feed567"
      },
      "execution_count": 14,
      "outputs": [
        {
          "output_type": "execute_result",
          "data": {
            "text/plain": [
              "{'Adjective': '형용사',\n",
              " 'Adverb': '부사',\n",
              " 'Alpha': '알파벳',\n",
              " 'Conjunction': '접속사',\n",
              " 'Determiner': '관형사',\n",
              " 'Eomi': '어미',\n",
              " 'Exclamation': '감탄사',\n",
              " 'Foreign': '외국어, 한자 및 기타기호',\n",
              " 'Hashtag': '트위터 해쉬태그',\n",
              " 'Josa': '조사',\n",
              " 'KoreanParticle': '(ex: ㅋㅋ)',\n",
              " 'Noun': '명사',\n",
              " 'Number': '숫자',\n",
              " 'PreEomi': '선어말어미',\n",
              " 'Punctuation': '구두점',\n",
              " 'ScreenName': '트위터 아이디',\n",
              " 'Suffix': '접미사',\n",
              " 'Unknown': '미등록어',\n",
              " 'Verb': '동사'}"
            ]
          },
          "metadata": {},
          "execution_count": 14
        }
      ]
    },
    {
      "cell_type": "code",
      "source": [
        "print(okt.pos(small_text, stem=True))"
      ],
      "metadata": {
        "id": "jx6yQenmTixs",
        "colab": {
          "base_uri": "https://localhost:8080/"
        },
        "outputId": "c71623b5-215f-41d1-e0be-6c3ced7213ec"
      },
      "execution_count": 15,
      "outputs": [
        {
          "output_type": "stream",
          "name": "stdout",
          "text": [
            "[('버스', 'Noun'), ('의', 'Josa'), ('운행', 'Noun'), ('시간', 'Noun'), ('을', 'Josa'), ('문의', 'Noun'), ('하다', 'Verb'), ('.', 'Punctuation'), ('어', 'Eomi'), ('?!', 'Punctuation')]\n"
          ]
        }
      ]
    },
    {
      "cell_type": "code",
      "source": [
        "print(okt.pos('버스의 운행시간을 문의합니다. 어?! ㅎㅎ ㅋㅋ ㅇㅇ ^^', stem=True))\n",
        "print(okt.pos('버스의 운행시간을 문의합니다. 어?! ㅎㅎ ㅋㅋ ㅇㅇ ^^', stem=True, norm=True))"
      ],
      "metadata": {
        "id": "tjni48BdWuqr",
        "colab": {
          "base_uri": "https://localhost:8080/"
        },
        "outputId": "02717c0d-d166-49ca-b000-48fbe186b8dd"
      },
      "execution_count": 18,
      "outputs": [
        {
          "output_type": "stream",
          "name": "stdout",
          "text": [
            "[('버스', 'Noun'), ('의', 'Josa'), ('운행', 'Noun'), ('시간', 'Noun'), ('을', 'Josa'), ('문의', 'Noun'), ('하다', 'Verb'), ('.', 'Punctuation'), ('어', 'Eomi'), ('?!', 'Punctuation'), ('ㅎㅎ', 'KoreanParticle'), ('ㅋㅋ', 'KoreanParticle'), ('ㅇㅇ', 'KoreanParticle'), ('^^', 'Punctuation')]\n",
            "[('버스', 'Noun'), ('의', 'Josa'), ('운행', 'Noun'), ('시간', 'Noun'), ('을', 'Josa'), ('문의', 'Noun'), ('하다', 'Verb'), ('.', 'Punctuation'), ('어', 'Eomi'), ('?!', 'Punctuation'), ('ㅎㅎ', 'KoreanParticle'), ('ㅋㅋ', 'KoreanParticle'), ('ㅇㅇ', 'KoreanParticle'), ('^^', 'Punctuation')]\n"
          ]
        }
      ]
    },
    {
      "cell_type": "markdown",
      "source": [
        "### 조사, 어미, 구둣점 제거"
      ],
      "metadata": {
        "id": "Bf1yirDgYwg8"
      }
    },
    {
      "cell_type": "code",
      "source": [
        "for txt, pos in okt.pos(small_text, stem=True):\n",
        "  if pos not in ['Josa', 'Eomi', 'Punctuation']:\n",
        "    print(txt, \" : \", pos)"
      ],
      "metadata": {
        "id": "zMnMOygCWudc",
        "colab": {
          "base_uri": "https://localhost:8080/"
        },
        "outputId": "38afeaf0-3f22-45dc-fbd4-2fcd58048d07"
      },
      "execution_count": 19,
      "outputs": [
        {
          "output_type": "stream",
          "name": "stdout",
          "text": [
            "버스  :  Noun\n",
            "운행  :  Noun\n",
            "시간  :  Noun\n",
            "문의  :  Noun\n",
            "하다  :  Verb\n"
          ]
        }
      ]
    },
    {
      "cell_type": "code",
      "source": [
        "clean_text = []\n",
        "for txt, pos in okt.pos(small_text, stem=True):\n",
        "  if pos not in ['Josa', 'Eomi', 'Punctuation']:\n",
        "    clean_text.append(txt)\n",
        "\n",
        "print(clean_text)"
      ],
      "metadata": {
        "id": "6eWzbF6zZRH7",
        "colab": {
          "base_uri": "https://localhost:8080/"
        },
        "outputId": "8dbf6ff3-3641-4230-b5ee-2d61c3a600b0"
      },
      "execution_count": 22,
      "outputs": [
        {
          "output_type": "stream",
          "name": "stdout",
          "text": [
            "['버스', '운행', '시간', '문의', '하다']\n"
          ]
        }
      ]
    },
    {
      "cell_type": "markdown",
      "source": [
        "- 위 내용을 함수로 작성하기"
      ],
      "metadata": {
        "id": "IFmoCx_waXmk"
      }
    },
    {
      "cell_type": "code",
      "source": [
        "def okt_clean(text):\n",
        "  clean_text = []\n",
        "\n",
        "  for txt, pos in okt.pos(text, stem=True):\n",
        "    if pos not in ['Josa', 'Eomi', 'Punctuation']:\n",
        "      clean_text.append(txt)\n",
        "\n",
        "  return \" \".join(clean_text)"
      ],
      "metadata": {
        "id": "NpWd9n8laXYF"
      },
      "execution_count": 23,
      "outputs": []
    },
    {
      "cell_type": "code",
      "source": [
        "okt_clean(small_text)"
      ],
      "metadata": {
        "colab": {
          "base_uri": "https://localhost:8080/",
          "height": 35
        },
        "id": "OOZhESPjV007",
        "outputId": "46a3ddf4-840b-4ff7-db85-28cc8ce0a2d9"
      },
      "execution_count": 24,
      "outputs": [
        {
          "output_type": "execute_result",
          "data": {
            "text/plain": [
              "'버스 운행 시간 문의 하다'"
            ],
            "application/vnd.google.colaboratory.intrinsic+json": {
              "type": "string"
            }
          },
          "metadata": {},
          "execution_count": 24
        }
      ]
    },
    {
      "cell_type": "markdown",
      "source": [
        "### KLUE 기사 형태소 분석 적용하기"
      ],
      "metadata": {
        "id": "K_42naiMbBhg"
      }
    },
    {
      "cell_type": "code",
      "source": [
        "url = \"https://raw.githubusercontent.com/KLUE-benchmark/KLUE/main/klue_benchmark/ynat-v1.1/ynat-v1.1_train.json\"\n",
        "\n",
        "df = pd.read_json(url)\n",
        "df.head(3)"
      ],
      "metadata": {
        "id": "3Dr3aFkZZoqC",
        "colab": {
          "base_uri": "https://localhost:8080/",
          "height": 615
        },
        "outputId": "e7f4d86d-3ae1-4c59-fd49-63c851791f2c"
      },
      "execution_count": 26,
      "outputs": [
        {
          "output_type": "execute_result",
          "data": {
            "text/plain": [
              "                  guid                        title predefined_news_category  \\\n",
              "0  ynat-v1_train_00000   유튜브 내달 2일까지 크리에이터 지원 공간 운영                     IT과학   \n",
              "1  ynat-v1_train_00001      어버이날 맑다가 흐려져…남부지방 옅은 황사                     생활문화   \n",
              "2  ynat-v1_train_00002  내년부터 국가RD 평가 때 논문건수는 반영 않는다                     IT과학   \n",
              "\n",
              "  label                                        annotations  \\\n",
              "0  생활문화  {'annotators': ['08', '13', '07'], 'annotation...   \n",
              "1  생활문화  {'annotators': ['14', '13', '07'], 'annotation...   \n",
              "2    사회  {'annotators': ['14', '13', '10'], 'annotation...   \n",
              "\n",
              "                                                 url                  date  \n",
              "0  https://news.naver.com/main/read.nhn?mode=LS2D...  2016.06.30. 오전 10:36  \n",
              "1  https://news.naver.com/main/read.nhn?mode=LS2D...   2016.05.08. 오전 5:25  \n",
              "2  https://news.naver.com/main/read.nhn?mode=LS2D...  2016.03.15. 오후 12:00  "
            ],
            "text/html": [
              "\n",
              "  <div id=\"df-5a5f60b6-cd02-479f-a2ff-c0127554316e\" class=\"colab-df-container\">\n",
              "    <div>\n",
              "<style scoped>\n",
              "    .dataframe tbody tr th:only-of-type {\n",
              "        vertical-align: middle;\n",
              "    }\n",
              "\n",
              "    .dataframe tbody tr th {\n",
              "        vertical-align: top;\n",
              "    }\n",
              "\n",
              "    .dataframe thead th {\n",
              "        text-align: right;\n",
              "    }\n",
              "</style>\n",
              "<table border=\"1\" class=\"dataframe\">\n",
              "  <thead>\n",
              "    <tr style=\"text-align: right;\">\n",
              "      <th></th>\n",
              "      <th>guid</th>\n",
              "      <th>title</th>\n",
              "      <th>predefined_news_category</th>\n",
              "      <th>label</th>\n",
              "      <th>annotations</th>\n",
              "      <th>url</th>\n",
              "      <th>date</th>\n",
              "    </tr>\n",
              "  </thead>\n",
              "  <tbody>\n",
              "    <tr>\n",
              "      <th>0</th>\n",
              "      <td>ynat-v1_train_00000</td>\n",
              "      <td>유튜브 내달 2일까지 크리에이터 지원 공간 운영</td>\n",
              "      <td>IT과학</td>\n",
              "      <td>생활문화</td>\n",
              "      <td>{'annotators': ['08', '13', '07'], 'annotation...</td>\n",
              "      <td>https://news.naver.com/main/read.nhn?mode=LS2D...</td>\n",
              "      <td>2016.06.30. 오전 10:36</td>\n",
              "    </tr>\n",
              "    <tr>\n",
              "      <th>1</th>\n",
              "      <td>ynat-v1_train_00001</td>\n",
              "      <td>어버이날 맑다가 흐려져…남부지방 옅은 황사</td>\n",
              "      <td>생활문화</td>\n",
              "      <td>생활문화</td>\n",
              "      <td>{'annotators': ['14', '13', '07'], 'annotation...</td>\n",
              "      <td>https://news.naver.com/main/read.nhn?mode=LS2D...</td>\n",
              "      <td>2016.05.08. 오전 5:25</td>\n",
              "    </tr>\n",
              "    <tr>\n",
              "      <th>2</th>\n",
              "      <td>ynat-v1_train_00002</td>\n",
              "      <td>내년부터 국가RD 평가 때 논문건수는 반영 않는다</td>\n",
              "      <td>IT과학</td>\n",
              "      <td>사회</td>\n",
              "      <td>{'annotators': ['14', '13', '10'], 'annotation...</td>\n",
              "      <td>https://news.naver.com/main/read.nhn?mode=LS2D...</td>\n",
              "      <td>2016.03.15. 오후 12:00</td>\n",
              "    </tr>\n",
              "  </tbody>\n",
              "</table>\n",
              "</div>\n",
              "    <div class=\"colab-df-buttons\">\n",
              "\n",
              "  <div class=\"colab-df-container\">\n",
              "    <button class=\"colab-df-convert\" onclick=\"convertToInteractive('df-5a5f60b6-cd02-479f-a2ff-c0127554316e')\"\n",
              "            title=\"Convert this dataframe to an interactive table.\"\n",
              "            style=\"display:none;\">\n",
              "\n",
              "  <svg xmlns=\"http://www.w3.org/2000/svg\" height=\"24px\" viewBox=\"0 -960 960 960\">\n",
              "    <path d=\"M120-120v-720h720v720H120Zm60-500h600v-160H180v160Zm220 220h160v-160H400v160Zm0 220h160v-160H400v160ZM180-400h160v-160H180v160Zm440 0h160v-160H620v160ZM180-180h160v-160H180v160Zm440 0h160v-160H620v160Z\"/>\n",
              "  </svg>\n",
              "    </button>\n",
              "\n",
              "  <style>\n",
              "    .colab-df-container {\n",
              "      display:flex;\n",
              "      gap: 12px;\n",
              "    }\n",
              "\n",
              "    .colab-df-convert {\n",
              "      background-color: #E8F0FE;\n",
              "      border: none;\n",
              "      border-radius: 50%;\n",
              "      cursor: pointer;\n",
              "      display: none;\n",
              "      fill: #1967D2;\n",
              "      height: 32px;\n",
              "      padding: 0 0 0 0;\n",
              "      width: 32px;\n",
              "    }\n",
              "\n",
              "    .colab-df-convert:hover {\n",
              "      background-color: #E2EBFA;\n",
              "      box-shadow: 0px 1px 2px rgba(60, 64, 67, 0.3), 0px 1px 3px 1px rgba(60, 64, 67, 0.15);\n",
              "      fill: #174EA6;\n",
              "    }\n",
              "\n",
              "    .colab-df-buttons div {\n",
              "      margin-bottom: 4px;\n",
              "    }\n",
              "\n",
              "    [theme=dark] .colab-df-convert {\n",
              "      background-color: #3B4455;\n",
              "      fill: #D2E3FC;\n",
              "    }\n",
              "\n",
              "    [theme=dark] .colab-df-convert:hover {\n",
              "      background-color: #434B5C;\n",
              "      box-shadow: 0px 1px 3px 1px rgba(0, 0, 0, 0.15);\n",
              "      filter: drop-shadow(0px 1px 2px rgba(0, 0, 0, 0.3));\n",
              "      fill: #FFFFFF;\n",
              "    }\n",
              "  </style>\n",
              "\n",
              "    <script>\n",
              "      const buttonEl =\n",
              "        document.querySelector('#df-5a5f60b6-cd02-479f-a2ff-c0127554316e button.colab-df-convert');\n",
              "      buttonEl.style.display =\n",
              "        google.colab.kernel.accessAllowed ? 'block' : 'none';\n",
              "\n",
              "      async function convertToInteractive(key) {\n",
              "        const element = document.querySelector('#df-5a5f60b6-cd02-479f-a2ff-c0127554316e');\n",
              "        const dataTable =\n",
              "          await google.colab.kernel.invokeFunction('convertToInteractive',\n",
              "                                                    [key], {});\n",
              "        if (!dataTable) return;\n",
              "\n",
              "        const docLinkHtml = 'Like what you see? Visit the ' +\n",
              "          '<a target=\"_blank\" href=https://colab.research.google.com/notebooks/data_table.ipynb>data table notebook</a>'\n",
              "          + ' to learn more about interactive tables.';\n",
              "        element.innerHTML = '';\n",
              "        dataTable['output_type'] = 'display_data';\n",
              "        await google.colab.output.renderOutput(dataTable, element);\n",
              "        const docLink = document.createElement('div');\n",
              "        docLink.innerHTML = docLinkHtml;\n",
              "        element.appendChild(docLink);\n",
              "      }\n",
              "    </script>\n",
              "  </div>\n",
              "\n",
              "\n",
              "<div id=\"df-5ed18f03-5350-4612-bda4-6eafe92ba6e6\">\n",
              "  <button class=\"colab-df-quickchart\" onclick=\"quickchart('df-5ed18f03-5350-4612-bda4-6eafe92ba6e6')\"\n",
              "            title=\"Suggest charts\"\n",
              "            style=\"display:none;\">\n",
              "\n",
              "<svg xmlns=\"http://www.w3.org/2000/svg\" height=\"24px\"viewBox=\"0 0 24 24\"\n",
              "     width=\"24px\">\n",
              "    <g>\n",
              "        <path d=\"M19 3H5c-1.1 0-2 .9-2 2v14c0 1.1.9 2 2 2h14c1.1 0 2-.9 2-2V5c0-1.1-.9-2-2-2zM9 17H7v-7h2v7zm4 0h-2V7h2v10zm4 0h-2v-4h2v4z\"/>\n",
              "    </g>\n",
              "</svg>\n",
              "  </button>\n",
              "\n",
              "<style>\n",
              "  .colab-df-quickchart {\n",
              "      --bg-color: #E8F0FE;\n",
              "      --fill-color: #1967D2;\n",
              "      --hover-bg-color: #E2EBFA;\n",
              "      --hover-fill-color: #174EA6;\n",
              "      --disabled-fill-color: #AAA;\n",
              "      --disabled-bg-color: #DDD;\n",
              "  }\n",
              "\n",
              "  [theme=dark] .colab-df-quickchart {\n",
              "      --bg-color: #3B4455;\n",
              "      --fill-color: #D2E3FC;\n",
              "      --hover-bg-color: #434B5C;\n",
              "      --hover-fill-color: #FFFFFF;\n",
              "      --disabled-bg-color: #3B4455;\n",
              "      --disabled-fill-color: #666;\n",
              "  }\n",
              "\n",
              "  .colab-df-quickchart {\n",
              "    background-color: var(--bg-color);\n",
              "    border: none;\n",
              "    border-radius: 50%;\n",
              "    cursor: pointer;\n",
              "    display: none;\n",
              "    fill: var(--fill-color);\n",
              "    height: 32px;\n",
              "    padding: 0;\n",
              "    width: 32px;\n",
              "  }\n",
              "\n",
              "  .colab-df-quickchart:hover {\n",
              "    background-color: var(--hover-bg-color);\n",
              "    box-shadow: 0 1px 2px rgba(60, 64, 67, 0.3), 0 1px 3px 1px rgba(60, 64, 67, 0.15);\n",
              "    fill: var(--button-hover-fill-color);\n",
              "  }\n",
              "\n",
              "  .colab-df-quickchart-complete:disabled,\n",
              "  .colab-df-quickchart-complete:disabled:hover {\n",
              "    background-color: var(--disabled-bg-color);\n",
              "    fill: var(--disabled-fill-color);\n",
              "    box-shadow: none;\n",
              "  }\n",
              "\n",
              "  .colab-df-spinner {\n",
              "    border: 2px solid var(--fill-color);\n",
              "    border-color: transparent;\n",
              "    border-bottom-color: var(--fill-color);\n",
              "    animation:\n",
              "      spin 1s steps(1) infinite;\n",
              "  }\n",
              "\n",
              "  @keyframes spin {\n",
              "    0% {\n",
              "      border-color: transparent;\n",
              "      border-bottom-color: var(--fill-color);\n",
              "      border-left-color: var(--fill-color);\n",
              "    }\n",
              "    20% {\n",
              "      border-color: transparent;\n",
              "      border-left-color: var(--fill-color);\n",
              "      border-top-color: var(--fill-color);\n",
              "    }\n",
              "    30% {\n",
              "      border-color: transparent;\n",
              "      border-left-color: var(--fill-color);\n",
              "      border-top-color: var(--fill-color);\n",
              "      border-right-color: var(--fill-color);\n",
              "    }\n",
              "    40% {\n",
              "      border-color: transparent;\n",
              "      border-right-color: var(--fill-color);\n",
              "      border-top-color: var(--fill-color);\n",
              "    }\n",
              "    60% {\n",
              "      border-color: transparent;\n",
              "      border-right-color: var(--fill-color);\n",
              "    }\n",
              "    80% {\n",
              "      border-color: transparent;\n",
              "      border-right-color: var(--fill-color);\n",
              "      border-bottom-color: var(--fill-color);\n",
              "    }\n",
              "    90% {\n",
              "      border-color: transparent;\n",
              "      border-bottom-color: var(--fill-color);\n",
              "    }\n",
              "  }\n",
              "</style>\n",
              "\n",
              "  <script>\n",
              "    async function quickchart(key) {\n",
              "      const quickchartButtonEl =\n",
              "        document.querySelector('#' + key + ' button');\n",
              "      quickchartButtonEl.disabled = true;  // To prevent multiple clicks.\n",
              "      quickchartButtonEl.classList.add('colab-df-spinner');\n",
              "      try {\n",
              "        const charts = await google.colab.kernel.invokeFunction(\n",
              "            'suggestCharts', [key], {});\n",
              "      } catch (error) {\n",
              "        console.error('Error during call to suggestCharts:', error);\n",
              "      }\n",
              "      quickchartButtonEl.classList.remove('colab-df-spinner');\n",
              "      quickchartButtonEl.classList.add('colab-df-quickchart-complete');\n",
              "    }\n",
              "    (() => {\n",
              "      let quickchartButtonEl =\n",
              "        document.querySelector('#df-5ed18f03-5350-4612-bda4-6eafe92ba6e6 button');\n",
              "      quickchartButtonEl.style.display =\n",
              "        google.colab.kernel.accessAllowed ? 'block' : 'none';\n",
              "    })();\n",
              "  </script>\n",
              "</div>\n",
              "\n",
              "    </div>\n",
              "  </div>\n"
            ],
            "application/vnd.google.colaboratory.intrinsic+json": {
              "type": "dataframe",
              "variable_name": "df",
              "summary": "{\n  \"name\": \"df\",\n  \"rows\": 45678,\n  \"fields\": [\n    {\n      \"column\": \"guid\",\n      \"properties\": {\n        \"dtype\": \"string\",\n        \"num_unique_values\": 45678,\n        \"samples\": [\n          \"ynat-v1_train_28594\",\n          \"ynat-v1_train_24007\",\n          \"ynat-v1_train_05139\"\n        ],\n        \"semantic_type\": \"\",\n        \"description\": \"\"\n      }\n    },\n    {\n      \"column\": \"title\",\n      \"properties\": {\n        \"dtype\": \"string\",\n        \"num_unique_values\": 45678,\n        \"samples\": [\n          \"\\ud55c\\ubbf8 \\uc5f0\\uad6c\\uc9c4 \\uc2a4\\uc2a4\\ub85c \\uad11\\ud569\\uc131\\ud558\\ub294 \\uc778\\uacf5\\uc138\\ud3ec \\uc81c\\uc791 \\uc131\\uacf5\",\n          \"\\ud130\\ud0a4 IS \\uac00\\ub2f4 \\ud6c4 \\uc870\\uc9c1\\uc6d0 \\ubaa8\\uc9d1 \\uc678\\uad6d\\uc778 4\\uba85 \\uccb4\\ud3ec\",\n          \"\\uc0ac\\uc6b0\\ub514 \\ud64d\\ud574\\uc0c1 \\ud3ed\\ubc1c \\uc774\\ub780 \\uc720\\uc870\\uc120 \\uc870\\ub825 \\uc2dc\\ub3c4\\u2026\\uc774\\ub780\\uc740 \\ubd80\\uc778\\uc885\\ud569\"\n        ],\n        \"semantic_type\": \"\",\n        \"description\": \"\"\n      }\n    },\n    {\n      \"column\": \"predefined_news_category\",\n      \"properties\": {\n        \"dtype\": \"category\",\n        \"num_unique_values\": 7,\n        \"samples\": [\n          \"IT\\uacfc\\ud559\",\n          \"\\uc0dd\\ud65c\\ubb38\\ud654\",\n          \"\\uc815\\uce58\"\n        ],\n        \"semantic_type\": \"\",\n        \"description\": \"\"\n      }\n    },\n    {\n      \"column\": \"label\",\n      \"properties\": {\n        \"dtype\": \"category\",\n        \"num_unique_values\": 7,\n        \"samples\": [\n          \"\\uc0dd\\ud65c\\ubb38\\ud654\",\n          \"\\uc0ac\\ud68c\",\n          \"\\uc815\\uce58\"\n        ],\n        \"semantic_type\": \"\",\n        \"description\": \"\"\n      }\n    },\n    {\n      \"column\": \"annotations\",\n      \"properties\": {\n        \"dtype\": \"object\",\n        \"semantic_type\": \"\",\n        \"description\": \"\"\n      }\n    },\n    {\n      \"column\": \"url\",\n      \"properties\": {\n        \"dtype\": \"string\",\n        \"num_unique_values\": 45678,\n        \"samples\": [\n          \"https://news.naver.com/main/read.nhn?mode=LS2D&mid=shm&sid1=105&sid2=228&oid=001&aid=0010113491\",\n          \"https://news.naver.com/main/read.nhn?mode=LS2D&mid=shm&sid1=104&sid2=234&oid=001&aid=0011094222\",\n          \"https://news.naver.com/main/read.nhn?mode=LS2D&mid=shm&sid1=104&sid2=234&oid=001&aid=0011138627\"\n        ],\n        \"semantic_type\": \"\",\n        \"description\": \"\"\n      }\n    },\n    {\n      \"column\": \"date\",\n      \"properties\": {\n        \"dtype\": \"string\",\n        \"num_unique_values\": 43164,\n        \"samples\": [\n          \"2016.08.25. \\uc624\\uc804 9:07\",\n          \"2016.03.23. \\uc624\\uc804 11:08\",\n          \"2016.09.19. \\uc624\\ud6c4 3:47\"\n        ],\n        \"semantic_type\": \"\",\n        \"description\": \"\"\n      }\n    }\n  ]\n}"
            }
          },
          "metadata": {},
          "execution_count": 26
        }
      ]
    },
    {
      "cell_type": "code",
      "source": [
        "df.shape"
      ],
      "metadata": {
        "id": "hBZr2WGXZQ_i",
        "colab": {
          "base_uri": "https://localhost:8080/"
        },
        "outputId": "0974be2a-e586-43f8-c005-86b5d84103cf"
      },
      "execution_count": 27,
      "outputs": [
        {
          "output_type": "execute_result",
          "data": {
            "text/plain": [
              "(45678, 7)"
            ]
          },
          "metadata": {},
          "execution_count": 27
        }
      ]
    },
    {
      "cell_type": "code",
      "source": [
        "from tqdm import tqdm\n",
        "tqdm.pandas()\n",
        "\n",
        "title = df['title'].head(10000)\n",
        "\n",
        "# okt 형태소 분석기 적용\n",
        "title_clean = title.progress_map(okt_clean)"
      ],
      "metadata": {
        "id": "r10Ds2YIZoj9",
        "colab": {
          "base_uri": "https://localhost:8080/"
        },
        "outputId": "f477b893-4d43-484b-99e0-5cc22194ebda"
      },
      "execution_count": 30,
      "outputs": [
        {
          "output_type": "stream",
          "name": "stderr",
          "text": [
            "100%|██████████| 10000/10000 [00:29<00:00, 340.09it/s]\n"
          ]
        }
      ]
    },
    {
      "cell_type": "code",
      "source": [
        "# 형태소 분석기 적용 전\n",
        "\n",
        "title"
      ],
      "metadata": {
        "id": "NQS-QFtBcKQ_",
        "colab": {
          "base_uri": "https://localhost:8080/"
        },
        "outputId": "56e64366-0b67-431b-cb13-54d86fbfb730"
      },
      "execution_count": 31,
      "outputs": [
        {
          "output_type": "execute_result",
          "data": {
            "text/plain": [
              "0            유튜브 내달 2일까지 크리에이터 지원 공간 운영\n",
              "1               어버이날 맑다가 흐려져…남부지방 옅은 황사\n",
              "2           내년부터 국가RD 평가 때 논문건수는 반영 않는다\n",
              "3       김명자 신임 과총 회장 원로와 젊은 과학자 지혜 모을 것\n",
              "4        회색인간 작가 김동식 양심고백 등 새 소설집 2권 출간\n",
              "                     ...               \n",
              "9995        게시판 KB손보 소규모 공연장 안전시설 설치 지원\n",
              "9996                      신간 소피아 로렌의 시간\n",
              "9997     창비 세월호 책 다시 봄이 올 거예요 전자책 무료 배포\n",
              "9998              탬파베이 최지만 시즌 1호 솔로포 폭발\n",
              "9999         NHN엔터 3분기 영업이익 23억원…흑자전환종합\n",
              "Name: title, Length: 10000, dtype: object"
            ]
          },
          "metadata": {},
          "execution_count": 31
        }
      ]
    },
    {
      "cell_type": "code",
      "source": [
        "# 형태소 분석기 적용 후\n",
        "\n",
        "title_clean"
      ],
      "metadata": {
        "id": "tnPVlEr0cKOF",
        "colab": {
          "base_uri": "https://localhost:8080/"
        },
        "outputId": "18476928-7c80-471b-c6fe-9e5feb021746"
      },
      "execution_count": 32,
      "outputs": [
        {
          "output_type": "execute_result",
          "data": {
            "text/plain": [
              "0                 유튜브 내달 2일 까지 크리에이터 지원 공간 운영\n",
              "1                    어버이날 맑다 흐려지다 남부 지방 옅다 황사\n",
              "2                   내년 국가 RD 평가 때 논문 건수 반영 않다\n",
              "3             김명자 신임 과총 회장 원로 젊다 과학자 지혜 모으다 것\n",
              "4       회색 인간 작가 김 동식 양심 고백 등 새 소설 집 2 권 추다 간\n",
              "                        ...                  \n",
              "9995            게시판 KB 손보 소규모 공연장 안전 시설 설치 지원\n",
              "9996                             신간 소피아 로렌 시간\n",
              "9997             창비 세월호 책 다시 봄 오다 거 전자책 무료 배포\n",
              "9998                    탬파베이 최 시즌 1 호 솔로 포 폭발\n",
              "9999          NHN 엔터 3분 기 영업 이익 23억원 흑자 전환 종합\n",
              "Name: title, Length: 10000, dtype: object"
            ]
          },
          "metadata": {},
          "execution_count": 32
        }
      ]
    },
    {
      "cell_type": "code",
      "source": [
        "komoran = Komoran()"
      ],
      "metadata": {
        "id": "QtpjHCb4cKLP"
      },
      "execution_count": 33,
      "outputs": []
    },
    {
      "cell_type": "code",
      "source": [
        "komoran.nouns(small_text)"
      ],
      "metadata": {
        "id": "MJT_jXvEcKH-",
        "colab": {
          "base_uri": "https://localhost:8080/"
        },
        "outputId": "d748a282-36be-4ea5-8eae-ea2d2f777293"
      },
      "execution_count": 34,
      "outputs": [
        {
          "output_type": "execute_result",
          "data": {
            "text/plain": [
              "['버스', '운행', '시간', '문의']"
            ]
          },
          "metadata": {},
          "execution_count": 34
        }
      ]
    },
    {
      "cell_type": "code",
      "source": [
        "komoran.pos(small_text)"
      ],
      "metadata": {
        "id": "_Oo6BPXg1eAr",
        "colab": {
          "base_uri": "https://localhost:8080/"
        },
        "outputId": "4f190844-7811-4672-fb40-8e5144f4c784"
      },
      "execution_count": 35,
      "outputs": [
        {
          "output_type": "execute_result",
          "data": {
            "text/plain": [
              "[('버스', 'NNG'),\n",
              " ('의', 'JKG'),\n",
              " ('운행', 'NNG'),\n",
              " ('시간', 'NNG'),\n",
              " ('을', 'JKO'),\n",
              " ('문의', 'NNG'),\n",
              " ('하', 'XSV'),\n",
              " ('ㅂ니다', 'EF'),\n",
              " ('.', 'SF'),\n",
              " ('어', 'IC'),\n",
              " ('?', 'SF'),\n",
              " ('!', 'SF')]"
            ]
          },
          "metadata": {},
          "execution_count": 35
        }
      ]
    },
    {
      "cell_type": "code",
      "source": [
        "komoran.morphs(small_text)"
      ],
      "metadata": {
        "id": "XstZ3EAT1i7b",
        "colab": {
          "base_uri": "https://localhost:8080/"
        },
        "outputId": "ed100751-75b2-4140-f9aa-ac5e5df7b4e7"
      },
      "execution_count": 36,
      "outputs": [
        {
          "output_type": "execute_result",
          "data": {
            "text/plain": [
              "['버스', '의', '운행', '시간', '을', '문의', '하', 'ㅂ니다', '.', '어', '?', '!']"
            ]
          },
          "metadata": {},
          "execution_count": 36
        }
      ]
    },
    {
      "cell_type": "code",
      "source": [],
      "metadata": {
        "id": "rEuEca5F13gz"
      },
      "execution_count": null,
      "outputs": []
    }
  ]
}