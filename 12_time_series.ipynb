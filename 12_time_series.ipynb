{
  "cells": [
    {
      "cell_type": "markdown",
      "metadata": {
        "id": "view-in-github",
        "colab_type": "text"
      },
      "source": [
        "<a href=\"https://colab.research.google.com/github/dudgus1286/pandas/blob/main/12_time_series.ipynb\" target=\"_parent\"><img src=\"https://colab.research.google.com/assets/colab-badge.svg\" alt=\"Open In Colab\"/></a>"
      ]
    },
    {
      "cell_type": "markdown",
      "id": "70a1e7f8",
      "metadata": {
        "id": "70a1e7f8"
      },
      "source": [
        "## Ⅰ. 시계열\n",
        "\n",
        "- 시간상 여러 지점을 관측하거나 측정할 수 있도록 목록 또는 그래프로 표시한 일련의 데이터 점\n",
        "- 일정한 간격의 연속적이고 동등한 점들로 이루어진 시퀀스\n",
        "- 빅데이터에서 일반적으로 동등한 시간 간격으로 배치된 연속적 사건으로 나타남\n",
        "- ex) 금융시장의 주가 예측, 일기 예보, 전력 에너지 소비 추세, 웹 사이트 방문자 수 트렌트 등"
      ]
    },
    {
      "cell_type": "markdown",
      "id": "ab234286",
      "metadata": {
        "id": "ab234286"
      },
      "source": [
        "## Ⅱ. 파이썬 날짜 및 시간 관련 객체\n",
        "\n",
        "\n",
        "| 클래스              | 내용                                                               |\n",
        "|---------------------|--------------------------------------------------------------------|\n",
        "| class datetime.date | 그레고리력으로 날짜를 다룸. year,month,day 속성이 있음 |\n",
        "| class datetime.time | 특정일과 관련 없이 모든 날(day)을 24*60*60 초로 다룸. hour,minute,second,microsecond,tzinfo 속성이 있음|\n",
        "| class datetime.datetime | 날짜와 시간의 조합. year,month,day,hour,minute,second,microsecond,tzinfo 속성이 있음|\n",
        "| class datetime.timedelta | date 인스턴스 간, time 인스턴스 간 또는 datetime 인스턴스들 간 차이를 마이크로초로 나타내는 기간|\n"
      ]
    },
    {
      "cell_type": "markdown",
      "id": "2977a3ee",
      "metadata": {
        "id": "2977a3ee"
      },
      "source": [
        "## Ⅲ. pandas 로 날짜 다루기\n",
        "### 1. 시계열 자료와 pandas\n",
        "- 년도별, 월별, 일별, 시별, 분별 초별등 시간의 흐름에 따라 관측된 자료\n",
        "- pandas 에서 시계열 자료를 손쉽게 다룰 수 있도록, datetime (datetime64) 자료형 제공\n",
        "  - pandas.to_datetime() 함수를 사용해서, 날짜와 시간을 나타내는 문자열을 datetime (datetime64) 자료형으로 변경 가능\n",
        "  \n",
        "### 2. pandas.to_datetime() 사용법\n",
        "- 문자열 타입의 시간을 pandas 의 datetime (datetime64) 형으로 변경\n",
        "- 주요 사용법\n",
        "  - Series 변수 = to_datetime(Series 변수)\n",
        "    - return 된 Series 변수 데이터는 datetime64 형으로 변형되어 저장\n",
        "  - Series 변수 = to_datetime(Series 변수, format='~~~')\n",
        "    - Series 에 변환될 문자열이 특별한 포맷을 가져서, 자동변환이 어려운 경우 명시적으로 format 지정 (옵션)\n",
        "  - Series 변수 = to_datetime(Series 변수, errors='raise')\n",
        "    - 디폴트 raise\n",
        "    - errors 가능한 값: ignore(무시), raise(에러 발생), coerce(NaT 로 값 변경해서 저장) (옵션)\n",
        "\n",
        "\n",
        "| 표시 | 의미                                |\n",
        "|------|:-------------------------------------|\n",
        "| %y   | 연도를 축약해서 표시, 예: 21        |\n",
        "| %Y   | 연도를 축약하지 않고 표시, 예: 2021 |\n",
        "| %m   | 월을 두자릿 수로 표시, 예: 01 ~ 12  |\n",
        "| %d   | 일을 두자릿 수로 표시, 예: 01 ~ 31  |\n",
        "| %H   | 시간 표시(24시간), 예: 00 ~ 23        |\n",
        "| %M   | 분 표시, 예: 00 ~ 59  |\n",
        "| %S   | 초 표시, 예: 00 ~ 59        |\n",
        "\n",
        "> 참고: https://docs.python.org/3/library/datetime.html#strftime-and-strptime-behavior"
      ]
    },
    {
      "cell_type": "code",
      "execution_count": 1,
      "id": "fdd15e47",
      "metadata": {
        "id": "fdd15e47"
      },
      "outputs": [],
      "source": [
        "import pandas as pd"
      ]
    },
    {
      "cell_type": "markdown",
      "id": "5cacfdfb",
      "metadata": {
        "id": "5cacfdfb"
      },
      "source": [
        "### [실습1]"
      ]
    },
    {
      "cell_type": "markdown",
      "id": "e5c9efb0",
      "metadata": {
        "id": "e5c9efb0"
      },
      "source": [
        "#### 1) 날짜를 인덱스로 갖는 시리즈 객체 생성"
      ]
    },
    {
      "cell_type": "code",
      "execution_count": 2,
      "id": "b4802c4b",
      "metadata": {
        "id": "b4802c4b",
        "colab": {
          "base_uri": "https://localhost:8080/"
        },
        "outputId": "e4325aea-f9d4-4e51-c68e-8604162745ed"
      },
      "outputs": [
        {
          "output_type": "execute_result",
          "data": {
            "text/plain": [
              "0    0\n",
              "1    1\n",
              "2    2\n",
              "dtype: int64"
            ]
          },
          "metadata": {},
          "execution_count": 2
        }
      ],
      "source": [
        "pd.Series(range(3))"
      ]
    },
    {
      "cell_type": "markdown",
      "id": "46ab976b",
      "metadata": {
        "id": "46ab976b"
      },
      "source": [
        "#### 2) 날짜를 value로 갖는 시리즈 객체 생성"
      ]
    },
    {
      "cell_type": "code",
      "source": [
        "pd.date_range?"
      ],
      "metadata": {
        "id": "au9JI4RtOah5"
      },
      "id": "au9JI4RtOah5",
      "execution_count": 6,
      "outputs": []
    },
    {
      "cell_type": "code",
      "execution_count": 5,
      "id": "5900e92a",
      "metadata": {
        "id": "5900e92a",
        "colab": {
          "base_uri": "https://localhost:8080/"
        },
        "outputId": "f058c7c6-7e9b-45ce-d47a-79728b15567e"
      },
      "outputs": [
        {
          "output_type": "execute_result",
          "data": {
            "text/plain": [
              "2024-01-01    0\n",
              "2024-01-02    1\n",
              "2024-01-03    2\n",
              "Freq: D, dtype: int64"
            ]
          },
          "metadata": {},
          "execution_count": 5
        }
      ],
      "source": [
        "pd.Series(range(3), index=pd.date_range('2024',freq='D', periods = 3))"
      ]
    },
    {
      "cell_type": "code",
      "execution_count": 7,
      "id": "d0c57105",
      "metadata": {
        "id": "d0c57105",
        "outputId": "e9c63c11-3ee7-490e-cc51-2ffd51b3c3f6",
        "colab": {
          "base_uri": "https://localhost:8080/"
        }
      },
      "outputs": [
        {
          "output_type": "execute_result",
          "data": {
            "text/plain": [
              "2024-12-31    0\n",
              "2025-12-31    1\n",
              "2026-12-31    2\n",
              "Freq: A-DEC, dtype: int64"
            ]
          },
          "metadata": {},
          "execution_count": 7
        }
      ],
      "source": [
        "pd.Series(range(3), index=pd.date_range('2024',freq='Y', periods = 3))"
      ]
    },
    {
      "cell_type": "markdown",
      "id": "c6109dbf",
      "metadata": {
        "id": "c6109dbf"
      },
      "source": [
        "#### 3) 날짜+시간을 value로 갖는 시리즈 객체 생성"
      ]
    },
    {
      "cell_type": "code",
      "execution_count": 8,
      "id": "202bc379",
      "metadata": {
        "collapsed": true,
        "id": "202bc379",
        "outputId": "7695d7f4-1cf1-46f0-9bd5-719f40390ebd",
        "colab": {
          "base_uri": "https://localhost:8080/"
        }
      },
      "outputs": [
        {
          "output_type": "execute_result",
          "data": {
            "text/plain": [
              "0   2024-01-01\n",
              "1   2024-01-02\n",
              "2   2024-01-03\n",
              "dtype: datetime64[ns]"
            ]
          },
          "metadata": {},
          "execution_count": 8
        }
      ],
      "source": [
        "pd.Series(pd.date_range('2024', periods=3))"
      ]
    },
    {
      "cell_type": "code",
      "source": [
        "pd.Series(pd.date_range('20240601', periods=3))"
      ],
      "metadata": {
        "colab": {
          "base_uri": "https://localhost:8080/"
        },
        "id": "zaEeqsUHR-_B",
        "outputId": "345f0cc6-83dd-446a-dcdf-150076e13dbc"
      },
      "id": "zaEeqsUHR-_B",
      "execution_count": 9,
      "outputs": [
        {
          "output_type": "execute_result",
          "data": {
            "text/plain": [
              "0   2024-06-01\n",
              "1   2024-06-02\n",
              "2   2024-06-03\n",
              "dtype: datetime64[ns]"
            ]
          },
          "metadata": {},
          "execution_count": 9
        }
      ]
    },
    {
      "cell_type": "code",
      "source": [
        "ser = pd.Series(pd.date_range('20240601 09:10:12', freq= 'H', periods=3))\n",
        "ser"
      ],
      "metadata": {
        "colab": {
          "base_uri": "https://localhost:8080/"
        },
        "id": "d4M5Fhd0SJEx",
        "outputId": "8dec32ee-9eb0-49cd-e932-4ccc23941d62"
      },
      "id": "d4M5Fhd0SJEx",
      "execution_count": 12,
      "outputs": [
        {
          "output_type": "execute_result",
          "data": {
            "text/plain": [
              "0   2024-06-01 09:10:12\n",
              "1   2024-06-01 10:10:12\n",
              "2   2024-06-01 11:10:12\n",
              "dtype: datetime64[ns]"
            ]
          },
          "metadata": {},
          "execution_count": 12
        }
      ]
    },
    {
      "cell_type": "markdown",
      "id": "6f390715",
      "metadata": {
        "id": "6f390715"
      },
      "source": [
        "#### 4) 시간대 정보 접근 : .dt"
      ]
    },
    {
      "cell_type": "code",
      "execution_count": 13,
      "id": "287c8a59",
      "metadata": {
        "id": "287c8a59",
        "outputId": "7b60bae1-88de-44b3-b2bf-b63642d28589",
        "colab": {
          "base_uri": "https://localhost:8080/"
        }
      },
      "outputs": [
        {
          "output_type": "execute_result",
          "data": {
            "text/plain": [
              "0     9\n",
              "1    10\n",
              "2    11\n",
              "dtype: int32"
            ]
          },
          "metadata": {},
          "execution_count": 13
        }
      ],
      "source": [
        "ser.dt.hour"
      ]
    },
    {
      "cell_type": "code",
      "execution_count": 14,
      "id": "f54144d3",
      "metadata": {
        "id": "f54144d3",
        "outputId": "8e434c16-34f7-438c-e4f9-22b8fac2908b",
        "colab": {
          "base_uri": "https://localhost:8080/"
        }
      },
      "outputs": [
        {
          "output_type": "execute_result",
          "data": {
            "text/plain": [
              "0    10\n",
              "1    10\n",
              "2    10\n",
              "dtype: int32"
            ]
          },
          "metadata": {},
          "execution_count": 14
        }
      ],
      "source": [
        "ser.dt.minute"
      ]
    },
    {
      "cell_type": "code",
      "execution_count": 15,
      "id": "9409ca6b",
      "metadata": {
        "id": "9409ca6b",
        "outputId": "3d89c594-db18-4968-eeb2-f417fe366ad5",
        "colab": {
          "base_uri": "https://localhost:8080/"
        }
      },
      "outputs": [
        {
          "output_type": "execute_result",
          "data": {
            "text/plain": [
              "0    12\n",
              "1    12\n",
              "2    12\n",
              "dtype: int32"
            ]
          },
          "metadata": {},
          "execution_count": 15
        }
      ],
      "source": [
        "ser.dt.second"
      ]
    },
    {
      "cell_type": "code",
      "source": [
        "ser = pd.Series(pd.date_range('20240601 09:20:31', periods=3))\n",
        "ser"
      ],
      "metadata": {
        "colab": {
          "base_uri": "https://localhost:8080/"
        },
        "id": "HB3cWMv4SuEy",
        "outputId": "d3b5f769-e5c6-4b33-ce14-5477307d508b"
      },
      "id": "HB3cWMv4SuEy",
      "execution_count": 19,
      "outputs": [
        {
          "output_type": "execute_result",
          "data": {
            "text/plain": [
              "0   2024-06-01 09:20:31\n",
              "1   2024-06-02 09:20:31\n",
              "2   2024-06-03 09:20:31\n",
              "dtype: datetime64[ns]"
            ]
          },
          "metadata": {},
          "execution_count": 19
        }
      ]
    },
    {
      "cell_type": "code",
      "source": [
        "ser.dt.year\n",
        "ser.dt.month\n",
        "ser.dt.day"
      ],
      "metadata": {
        "colab": {
          "base_uri": "https://localhost:8080/"
        },
        "id": "UVvyvJZ5TO_y",
        "outputId": "f3d08bad-4ce7-4fdb-e207-b66083568157"
      },
      "id": "UVvyvJZ5TO_y",
      "execution_count": 24,
      "outputs": [
        {
          "output_type": "execute_result",
          "data": {
            "text/plain": [
              "0    1\n",
              "1    2\n",
              "2    3\n",
              "dtype: int32"
            ]
          },
          "metadata": {},
          "execution_count": 24
        }
      ]
    },
    {
      "cell_type": "markdown",
      "id": "c8bfd4d5",
      "metadata": {
        "id": "c8bfd4d5"
      },
      "source": [
        "- day가 2인 열 추출"
      ]
    },
    {
      "cell_type": "code",
      "execution_count": 25,
      "id": "330ab96b",
      "metadata": {
        "id": "330ab96b",
        "colab": {
          "base_uri": "https://localhost:8080/"
        },
        "outputId": "e0973fec-706a-4325-be86-3fe80d2a3648"
      },
      "outputs": [
        {
          "output_type": "execute_result",
          "data": {
            "text/plain": [
              "1   2024-06-02 09:20:31\n",
              "dtype: datetime64[ns]"
            ]
          },
          "metadata": {},
          "execution_count": 25
        }
      ],
      "source": [
        "ser[ser.dt.day == 2]"
      ]
    },
    {
      "cell_type": "markdown",
      "id": "fb83387e",
      "metadata": {
        "id": "fb83387e"
      },
      "source": [
        "### [실습2]"
      ]
    },
    {
      "cell_type": "code",
      "execution_count": 36,
      "id": "af2de2fa",
      "metadata": {
        "id": "af2de2fa"
      },
      "outputs": [],
      "source": [
        "df = pd.DataFrame({'order':['2020-01-01 07:10:00',\n",
        "                            '2020-01-08 07:20:30',\n",
        "                            '2020-02-20 11:20:00',\n",
        "                            '2020-02-20 04:40:50',\n",
        "                            '2020-02-28 12:10:20',\n",
        "                            '2019-01-10 17:23:50',\n",
        "                            '2019-06-20 22:27:50',\n",
        "                            '2019-06-20 21:15:59',\n",
        "                            '2019-12-10 21:15:59',\n",
        "                           ]})"
      ]
    },
    {
      "cell_type": "code",
      "execution_count": 37,
      "id": "86b6771d",
      "metadata": {
        "id": "86b6771d",
        "outputId": "59eec340-f94f-4a96-80a9-6c1c6bb9725e",
        "colab": {
          "base_uri": "https://localhost:8080/"
        }
      },
      "outputs": [
        {
          "output_type": "stream",
          "name": "stdout",
          "text": [
            "<class 'pandas.core.frame.DataFrame'>\n",
            "RangeIndex: 9 entries, 0 to 8\n",
            "Data columns (total 1 columns):\n",
            " #   Column  Non-Null Count  Dtype \n",
            "---  ------  --------------  ----- \n",
            " 0   order   9 non-null      object\n",
            "dtypes: object(1)\n",
            "memory usage: 200.0+ bytes\n"
          ]
        }
      ],
      "source": [
        "df.info()"
      ]
    },
    {
      "cell_type": "markdown",
      "id": "6da2c6c9",
      "metadata": {
        "id": "6da2c6c9"
      },
      "source": [
        "#### 1) object => datetime64(ns)"
      ]
    },
    {
      "cell_type": "code",
      "source": [
        "pd.to_datetime?"
      ],
      "metadata": {
        "id": "djsC0bDnUWnz"
      },
      "id": "djsC0bDnUWnz",
      "execution_count": 28,
      "outputs": []
    },
    {
      "cell_type": "code",
      "execution_count": 40,
      "id": "ccb598dc",
      "metadata": {
        "id": "ccb598dc"
      },
      "outputs": [],
      "source": [
        "# to_datetime()\n",
        "df['order'] = pd.to_datetime(df['order'], format =\"%Y-%m-%d %H:%M:%S\")"
      ]
    },
    {
      "cell_type": "code",
      "execution_count": 41,
      "id": "ddd3fbe1",
      "metadata": {
        "id": "ddd3fbe1",
        "outputId": "3d2f692f-9870-45a1-9286-c81cc21605dd",
        "colab": {
          "base_uri": "https://localhost:8080/"
        }
      },
      "outputs": [
        {
          "output_type": "stream",
          "name": "stdout",
          "text": [
            "<class 'pandas.core.frame.DataFrame'>\n",
            "RangeIndex: 9 entries, 0 to 8\n",
            "Data columns (total 1 columns):\n",
            " #   Column  Non-Null Count  Dtype         \n",
            "---  ------  --------------  -----         \n",
            " 0   order   9 non-null      datetime64[ns]\n",
            "dtypes: datetime64[ns](1)\n",
            "memory usage: 200.0 bytes\n"
          ]
        }
      ],
      "source": [
        "df.info()"
      ]
    },
    {
      "cell_type": "code",
      "execution_count": 35,
      "id": "dbeb0eef",
      "metadata": {
        "id": "dbeb0eef",
        "colab": {
          "base_uri": "https://localhost:8080/"
        },
        "outputId": "801e5aa6-54a8-4615-f973-8cb8dab5485c"
      },
      "outputs": [
        {
          "output_type": "stream",
          "name": "stdout",
          "text": [
            "<class 'pandas.core.frame.DataFrame'>\n",
            "RangeIndex: 9 entries, 0 to 8\n",
            "Data columns (total 1 columns):\n",
            " #   Column  Non-Null Count  Dtype         \n",
            "---  ------  --------------  -----         \n",
            " 0   order   9 non-null      datetime64[ns]\n",
            "dtypes: datetime64[ns](1)\n",
            "memory usage: 200.0 bytes\n"
          ]
        }
      ],
      "source": [
        "df = pd.DataFrame({'order':['2020-01-01 07:10:00',\n",
        "                            '2020-01-08 07:20:30',\n",
        "                            '2020-02-20 11:20:00',\n",
        "                            '2020-02-20 04:40:50',\n",
        "                            '2020-02-28 12:10:20',\n",
        "                            '2019-01-10 17:23:50',\n",
        "                            '2019-06-20 22:27:50',\n",
        "                            '2019-06-20 21:15:59',\n",
        "                            '2019-12-10 21:15:59',\n",
        "                           ]}, dtype=\"datetime64[ns]\")\n",
        "df.info()"
      ]
    }
  ],
  "metadata": {
    "kernelspec": {
      "display_name": "Python 3 (ipykernel)",
      "language": "python",
      "name": "python3"
    },
    "language_info": {
      "codemirror_mode": {
        "name": "ipython",
        "version": 3
      },
      "file_extension": ".py",
      "mimetype": "text/x-python",
      "name": "python",
      "nbconvert_exporter": "python",
      "pygments_lexer": "ipython3",
      "version": "3.9.12"
    },
    "colab": {
      "provenance": [],
      "include_colab_link": true
    }
  },
  "nbformat": 4,
  "nbformat_minor": 5
}