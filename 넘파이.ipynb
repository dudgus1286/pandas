{
  "nbformat": 4,
  "nbformat_minor": 0,
  "metadata": {
    "colab": {
      "provenance": [],
      "authorship_tag": "ABX9TyPbSGhvcT57v9fcHn8YYY/D",
      "include_colab_link": true
    },
    "kernelspec": {
      "name": "python3",
      "display_name": "Python 3"
    },
    "language_info": {
      "name": "python"
    }
  },
  "cells": [
    {
      "cell_type": "markdown",
      "metadata": {
        "id": "view-in-github",
        "colab_type": "text"
      },
      "source": [
        "<a href=\"https://colab.research.google.com/github/dudgus1286/pandas/blob/main/%EB%84%98%ED%8C%8C%EC%9D%B4.ipynb\" target=\"_parent\"><img src=\"https://colab.research.google.com/assets/colab-badge.svg\" alt=\"Open In Colab\"/></a>"
      ]
    },
    {
      "cell_type": "markdown",
      "source": [
        "### 넘파이\n",
        "- 과학 계산 및 수학 계산\n",
        "- 이미지와 컴퓨터 그래픽을 빠르게 처리\n",
        "- 반복문 작성하지 않고 전체 데이터 배열을 빠르게 계산할 수 있는 수학 함수 제공\n",
        "\n",
        "> 넘파이 배열\n",
        "- 벡터(1차원)와 매트리스(2차원)를 배열이라고 함\n",
        "- 머신러닝에서 사용하는 주요 데이터 구조"
      ],
      "metadata": {
        "id": "UBJ4iBargv4c"
      }
    },
    {
      "cell_type": "code",
      "execution_count": 2,
      "metadata": {
        "id": "TYxjZ4I8w-Yv"
      },
      "outputs": [],
      "source": [
        "import numpy as np"
      ]
    },
    {
      "cell_type": "markdown",
      "source": [
        "### 1. 1차원 배열(벡터)"
      ],
      "metadata": {
        "id": "YrzNP8XUiKHQ"
      }
    },
    {
      "cell_type": "code",
      "source": [
        "array1 = np.array([1,2,3,4])"
      ],
      "metadata": {
        "id": "pz8HuXJRhRBC"
      },
      "execution_count": null,
      "outputs": []
    },
    {
      "cell_type": "code",
      "source": [
        "array1.shape"
      ],
      "metadata": {
        "colab": {
          "base_uri": "https://localhost:8080/"
        },
        "id": "8Ea3JNwXiVUX",
        "outputId": "f932f1fd-eecd-42a4-f72a-b97c3b474d3e"
      },
      "execution_count": null,
      "outputs": [
        {
          "output_type": "execute_result",
          "data": {
            "text/plain": [
              "(4,)"
            ]
          },
          "metadata": {},
          "execution_count": 7
        }
      ]
    },
    {
      "cell_type": "markdown",
      "source": [
        "### 2. 2차원 배열)매트릭스"
      ],
      "metadata": {
        "id": "3pfLvYE2iqju"
      }
    },
    {
      "cell_type": "code",
      "source": [
        "data1 = [\n",
        "    [1,2,3],\n",
        "    [4,5,6]\n",
        "]\n",
        "\n",
        "array2 = np.array(data1)\n",
        "array2"
      ],
      "metadata": {
        "colab": {
          "base_uri": "https://localhost:8080/"
        },
        "id": "A-5fOTqsig8e",
        "outputId": "94d6fb78-c461-4fe3-d1fc-33c95c985933"
      },
      "execution_count": null,
      "outputs": [
        {
          "output_type": "execute_result",
          "data": {
            "text/plain": [
              "array([[1, 2, 3],\n",
              "       [4, 5, 6]])"
            ]
          },
          "metadata": {},
          "execution_count": 9
        }
      ]
    },
    {
      "cell_type": "code",
      "source": [
        "array2.shape"
      ],
      "metadata": {
        "colab": {
          "base_uri": "https://localhost:8080/"
        },
        "id": "d4AdsD0oi1PG",
        "outputId": "c10a1156-a119-4795-e4a2-d363f0e165de"
      },
      "execution_count": null,
      "outputs": [
        {
          "output_type": "execute_result",
          "data": {
            "text/plain": [
              "(2, 3)"
            ]
          },
          "metadata": {},
          "execution_count": 10
        }
      ]
    },
    {
      "cell_type": "code",
      "source": [
        "array3 = np.array([[1,2,3,4]])\n",
        "array3.shape"
      ],
      "metadata": {
        "colab": {
          "base_uri": "https://localhost:8080/"
        },
        "id": "38B9Pnp1i4Ki",
        "outputId": "e88fccab-51ce-43fe-92af-7c81f9be176f"
      },
      "execution_count": null,
      "outputs": [
        {
          "output_type": "execute_result",
          "data": {
            "text/plain": [
              "(1, 4)"
            ]
          },
          "metadata": {},
          "execution_count": 15
        }
      ]
    },
    {
      "cell_type": "code",
      "source": [
        "# ndim : 차원 수 알아보기\n",
        "\n",
        "print(array1.ndim)\n",
        "print(array2.ndim)\n",
        "print(array3.ndim)"
      ],
      "metadata": {
        "colab": {
          "base_uri": "https://localhost:8080/"
        },
        "id": "-8YycvqBjA2-",
        "outputId": "0eea43d8-c0b7-41de-f87c-adddaeb60166"
      },
      "execution_count": null,
      "outputs": [
        {
          "output_type": "stream",
          "name": "stdout",
          "text": [
            "1\n",
            "2\n",
            "2\n"
          ]
        }
      ]
    },
    {
      "cell_type": "code",
      "source": [
        "# 파이썬에서 리스트는 서로 다른 타입 가질 수 있음\n",
        "\n",
        "list1 = [1,2,\"a\",3.5]\n",
        "list1"
      ],
      "metadata": {
        "colab": {
          "base_uri": "https://localhost:8080/"
        },
        "id": "ZamKM_bzjQ2u",
        "outputId": "c0dff771-df1d-4336-ae88-e978b6c88c40"
      },
      "execution_count": null,
      "outputs": [
        {
          "output_type": "execute_result",
          "data": {
            "text/plain": [
              "[1, 2, 'a', 3.5]"
            ]
          },
          "metadata": {},
          "execution_count": 17
        }
      ]
    },
    {
      "cell_type": "code",
      "source": [
        "# numpy 는 하나의 타입으로 변경해서 array 생성\n",
        "\n",
        "np.array(list1)\n",
        "# array(['1', '2', 'a', '3.5'], dtype='<U32')"
      ],
      "metadata": {
        "colab": {
          "base_uri": "https://localhost:8080/"
        },
        "id": "GyLfGfagjgYt",
        "outputId": "76029ba3-262c-4f1f-e054-58cca3bd0f45"
      },
      "execution_count": null,
      "outputs": [
        {
          "output_type": "execute_result",
          "data": {
            "text/plain": [
              "array(['1', '2', 'a', '3.5'], dtype='<U32')"
            ]
          },
          "metadata": {},
          "execution_count": 18
        }
      ]
    },
    {
      "cell_type": "code",
      "source": [
        "# array1.dtype\n",
        "# astype()\n",
        "\n",
        "# float64 : float 를 64 비트로 표현\n",
        "array_f1 = array1.astype(\"float64\")\n",
        "array_f1\n",
        "array_f1.dtype"
      ],
      "metadata": {
        "colab": {
          "base_uri": "https://localhost:8080/"
        },
        "id": "sUb4BvYYjtFt",
        "outputId": "ebc3d30f-6988-4af7-edea-4e49b3dbfccb"
      },
      "execution_count": null,
      "outputs": [
        {
          "output_type": "execute_result",
          "data": {
            "text/plain": [
              "dtype('float64')"
            ]
          },
          "metadata": {},
          "execution_count": 22
        }
      ]
    },
    {
      "cell_type": "markdown",
      "source": [
        "### 3. 넘파이 함수"
      ],
      "metadata": {
        "id": "EjgHhrsAlCU6"
      }
    },
    {
      "cell_type": "code",
      "source": [
        "# arange(n) : 0 ~ n -1 에 해당하는 넘파이 배열 생성\n",
        "\n",
        "np.arange(10)\n",
        "# array([0, 1, 2, 3, 4, 5, 6, 7, 8, 9])\n",
        "\n",
        "np.arange(5,10)\n",
        "# array([5, 6, 7, 8, 9])\n",
        "\n",
        "np.arange(1,10,2)\n",
        "# array([1, 3, 5, 7, 9])"
      ],
      "metadata": {
        "colab": {
          "base_uri": "https://localhost:8080/"
        },
        "id": "iBmKVB4ekPHz",
        "outputId": "429fe691-8e35-46be-b9e9-d818c136f9de"
      },
      "execution_count": null,
      "outputs": [
        {
          "output_type": "execute_result",
          "data": {
            "text/plain": [
              "array([1, 3, 5, 7, 9])"
            ]
          },
          "metadata": {},
          "execution_count": 25
        }
      ]
    },
    {
      "cell_type": "code",
      "source": [
        "# 1 ~ 100 까지 5의 배수 넘파이 배열 생성\n",
        "np.arange(0,101,5)"
      ],
      "metadata": {
        "colab": {
          "base_uri": "https://localhost:8080/"
        },
        "id": "FjZA8nnXlN1h",
        "outputId": "773f02e5-16d0-4779-825f-9ef3cc680ed5"
      },
      "execution_count": null,
      "outputs": [
        {
          "output_type": "execute_result",
          "data": {
            "text/plain": [
              "array([  0,   5,  10,  15,  20,  25,  30,  35,  40,  45,  50,  55,  60,\n",
              "        65,  70,  75,  80,  85,  90,  95, 100])"
            ]
          },
          "metadata": {},
          "execution_count": 27
        }
      ]
    },
    {
      "cell_type": "code",
      "source": [
        "# zeros(n) : n 개 만큼 0을 채워서 넘파이 1차원 배열 생성\n",
        "# zeros(행, 열) : 2차원 배열\n",
        "\n",
        "np.zeros(4)\n",
        "\n",
        "np.zeros((3,4,2))"
      ],
      "metadata": {
        "colab": {
          "base_uri": "https://localhost:8080/"
        },
        "id": "XOVde6LdltXB",
        "outputId": "a9a977d9-9620-4651-f500-ee80c430b2ec"
      },
      "execution_count": null,
      "outputs": [
        {
          "output_type": "execute_result",
          "data": {
            "text/plain": [
              "array([[[0., 0.],\n",
              "        [0., 0.],\n",
              "        [0., 0.],\n",
              "        [0., 0.]],\n",
              "\n",
              "       [[0., 0.],\n",
              "        [0., 0.],\n",
              "        [0., 0.],\n",
              "        [0., 0.]],\n",
              "\n",
              "       [[0., 0.],\n",
              "        [0., 0.],\n",
              "        [0., 0.],\n",
              "        [0., 0.]]])"
            ]
          },
          "metadata": {},
          "execution_count": 30
        }
      ]
    },
    {
      "cell_type": "code",
      "source": [
        "# ones(n) : n 개 만큼 1을 채워서 넘파이 1차원 배열 생성\n",
        "np.ones(4)\n",
        "\n",
        "np.ones((2,3))"
      ],
      "metadata": {
        "colab": {
          "base_uri": "https://localhost:8080/"
        },
        "id": "APa3nC3ZmE3J",
        "outputId": "86c92b6f-8869-4450-f804-2dc905c19c07"
      },
      "execution_count": null,
      "outputs": [
        {
          "output_type": "execute_result",
          "data": {
            "text/plain": [
              "array([[1., 1., 1.],\n",
              "       [1., 1., 1.]])"
            ]
          },
          "metadata": {},
          "execution_count": 32
        }
      ]
    },
    {
      "cell_type": "code",
      "source": [
        "# np.empty() : 임의의 값을 넣어줌\n",
        "\n",
        "np.empty(4)\n",
        "np.empty((3,4), dtype=int)"
      ],
      "metadata": {
        "colab": {
          "base_uri": "https://localhost:8080/"
        },
        "id": "hO2SVXzenCpw",
        "outputId": "8b10e003-02b2-4a71-eb76-778893148001"
      },
      "execution_count": null,
      "outputs": [
        {
          "output_type": "execute_result",
          "data": {
            "text/plain": [
              "array([[0, 0, 0, 0],\n",
              "       [0, 0, 0, 0],\n",
              "       [0, 0, 0, 0]])"
            ]
          },
          "metadata": {},
          "execution_count": 35
        }
      ]
    },
    {
      "cell_type": "code",
      "source": [
        "# np.full() : 특정한 값으로 채워진 넘파이 배열 생성\n",
        "\n",
        "# np.full(4) 오류 남\n",
        "np.full(4, fill_value=7)\n",
        "np.full((2,4), fill_value=5)"
      ],
      "metadata": {
        "colab": {
          "base_uri": "https://localhost:8080/"
        },
        "id": "q8E7rv79nege",
        "outputId": "4717eb45-f98e-46d7-cb1b-c41dcb64c0f5"
      },
      "execution_count": null,
      "outputs": [
        {
          "output_type": "execute_result",
          "data": {
            "text/plain": [
              "array([[5, 5, 5, 5],\n",
              "       [5, 5, 5, 5]])"
            ]
          },
          "metadata": {},
          "execution_count": 39
        }
      ]
    },
    {
      "cell_type": "code",
      "source": [
        "# np.eye(n) : 단위행렬\n",
        "\n",
        "np.eye(3)"
      ],
      "metadata": {
        "colab": {
          "base_uri": "https://localhost:8080/"
        },
        "id": "XH0DC4f7n7WP",
        "outputId": "a21f9f6f-2f4a-427f-de21-00baba396d12"
      },
      "execution_count": null,
      "outputs": [
        {
          "output_type": "execute_result",
          "data": {
            "text/plain": [
              "array([[1., 0., 0.],\n",
              "       [0., 1., 0.],\n",
              "       [0., 0., 1.]])"
            ]
          },
          "metadata": {},
          "execution_count": 40
        }
      ]
    },
    {
      "cell_type": "code",
      "source": [
        "# np.linsplace(시작, 끝, 전체개수) : 시작과 끝 사이 정해진 개수만큼의 균등하게 분열된 값으로 반환\n",
        "\n",
        "np.linspace(1,10, 5)\n",
        "np.linspace(1,10, 4)"
      ],
      "metadata": {
        "colab": {
          "base_uri": "https://localhost:8080/"
        },
        "id": "E0xcLIVHoSnG",
        "outputId": "13a678e9-7e9e-4ae6-87fb-e05a62e73620"
      },
      "execution_count": null,
      "outputs": [
        {
          "output_type": "execute_result",
          "data": {
            "text/plain": [
              "array([ 1.,  4.,  7., 10.])"
            ]
          },
          "metadata": {},
          "execution_count": 42
        }
      ]
    },
    {
      "cell_type": "code",
      "source": [
        "# np.random.rand(n) : 0 ~ 1 사이의 숫자를 랜덤하게 n 개의 배열에 담아서 반환\n",
        "\n",
        "np.random.rand(2,3)"
      ],
      "metadata": {
        "colab": {
          "base_uri": "https://localhost:8080/"
        },
        "id": "j4B9t7etowR9",
        "outputId": "a6c39528-ce46-4f32-fa78-380d3c8e4254"
      },
      "execution_count": null,
      "outputs": [
        {
          "output_type": "execute_result",
          "data": {
            "text/plain": [
              "array([[0.387851  , 0.35340309, 0.93854847],\n",
              "       [0.95366305, 0.19312272, 0.38005406]])"
            ]
          },
          "metadata": {},
          "execution_count": 43
        }
      ]
    },
    {
      "cell_type": "code",
      "source": [
        "# np.random.randn() : 정규분포로 샘플링된 배열 생성\n",
        "\n",
        "# np.random.randn()\n",
        "# np.random.randn(5)\n",
        "np.random.randn(3,4)"
      ],
      "metadata": {
        "colab": {
          "base_uri": "https://localhost:8080/"
        },
        "id": "teXoqLmJpZb0",
        "outputId": "a7daefa5-5975-403b-da87-b523319d37e8"
      },
      "execution_count": null,
      "outputs": [
        {
          "output_type": "execute_result",
          "data": {
            "text/plain": [
              "array([[-1.79988491, -0.80143197,  0.39547324,  2.22903663],\n",
              "       [-0.18882173, -1.10013795, -1.35838501,  0.3428448 ],\n",
              "       [ 1.28180357, -0.80834871, -0.91186599, -0.99396842]])"
            ]
          },
          "metadata": {},
          "execution_count": 49
        }
      ]
    },
    {
      "cell_type": "code",
      "source": [
        "# np.random.randint(시작, 마지막, 개수) : 특정 범위 안의 숫자 출력\n",
        "\n",
        "np.random.randint(1,10,5)"
      ],
      "metadata": {
        "colab": {
          "base_uri": "https://localhost:8080/"
        },
        "id": "9QcYsEQipkFV",
        "outputId": "53214fd7-eba7-4621-dbe6-0fe1eacd074c"
      },
      "execution_count": null,
      "outputs": [
        {
          "output_type": "execute_result",
          "data": {
            "text/plain": [
              "array([1, 3, 3, 8, 2])"
            ]
          },
          "metadata": {},
          "execution_count": 51
        }
      ]
    },
    {
      "cell_type": "code",
      "source": [
        "# np.random.seed(임의의 숫자) : random 사용 시 실행할 때마다 결과가 다르게 나오는 것을 방지\n",
        "\n",
        "np.random.seed(140)\n",
        "np.random.randn(2,3)"
      ],
      "metadata": {
        "colab": {
          "base_uri": "https://localhost:8080/"
        },
        "id": "DRoRSYJYqHks",
        "outputId": "39096f23-d6f2-4376-a3d7-a43eb14f4876"
      },
      "execution_count": 53,
      "outputs": [
        {
          "output_type": "execute_result",
          "data": {
            "text/plain": [
              "array([[-0.46716782,  0.29599552,  0.18548011],\n",
              "       [-0.82809842, -0.03192753,  1.00155352]])"
            ]
          },
          "metadata": {},
          "execution_count": 53
        }
      ]
    },
    {
      "cell_type": "code",
      "source": [
        "# np.random.choice(n) : 0 ~ n 까지 임의의 수 추출\n",
        "\n",
        "np.random.choice(100)\n",
        "np.random.choice(100, size=(3,4))"
      ],
      "metadata": {
        "colab": {
          "base_uri": "https://localhost:8080/"
        },
        "id": "ldSJWBitqnXk",
        "outputId": "aab7a196-7eb9-46f8-924a-75c979857b0b"
      },
      "execution_count": null,
      "outputs": [
        {
          "output_type": "execute_result",
          "data": {
            "text/plain": [
              "array([[47, 66, 75,  5],\n",
              "       [36, 36, 40, 13],\n",
              "       [84, 33, 67, 20]])"
            ]
          },
          "metadata": {},
          "execution_count": 59
        }
      ]
    },
    {
      "cell_type": "markdown",
      "source": [
        "### 4. 인덱싱과 슬라이싱"
      ],
      "metadata": {
        "id": "tgIMgvJb7voP"
      }
    },
    {
      "cell_type": "code",
      "source": [
        "# 인덱싱\n",
        "arr1 = np.arange(1,10)\n",
        "arr1\n",
        "\n",
        "print(arr1[2])\n",
        "print(arr1[-2])\n",
        "\n",
        "arr1[3] = 18\n",
        "arr1"
      ],
      "metadata": {
        "colab": {
          "base_uri": "https://localhost:8080/"
        },
        "id": "GHsmJlR47ymf",
        "outputId": "001a2959-3c95-4502-f4f9-cb5c43caa8cd"
      },
      "execution_count": 6,
      "outputs": [
        {
          "output_type": "stream",
          "name": "stdout",
          "text": [
            "3\n",
            "8\n"
          ]
        },
        {
          "output_type": "execute_result",
          "data": {
            "text/plain": [
              "array([ 1,  2,  3, 18,  5,  6,  7,  8,  9])"
            ]
          },
          "metadata": {},
          "execution_count": 6
        }
      ]
    },
    {
      "cell_type": "code",
      "source": [
        "# reshape()\n",
        "\n",
        "# 1차원 배열을 2차원 배열로 재구성\n",
        "arr1 = np.arange(1,10).reshape(3,3)\n",
        "arr1"
      ],
      "metadata": {
        "colab": {
          "base_uri": "https://localhost:8080/"
        },
        "id": "xqJwVcgK78Zf",
        "outputId": "2fd4774d-151c-49a5-ceee-f6189f6c024a"
      },
      "execution_count": 12,
      "outputs": [
        {
          "output_type": "execute_result",
          "data": {
            "text/plain": [
              "array([[1, 2, 3],\n",
              "       [4, 5, 6],\n",
              "       [7, 8, 9]])"
            ]
          },
          "metadata": {},
          "execution_count": 12
        }
      ]
    },
    {
      "cell_type": "code",
      "source": [
        "print(arr1[0,0])\n",
        "print(arr1[1,1])"
      ],
      "metadata": {
        "colab": {
          "base_uri": "https://localhost:8080/"
        },
        "id": "0GU1AtNg8aEn",
        "outputId": "2657472d-8a5f-41fa-e318-44815cdc87e9"
      },
      "execution_count": 14,
      "outputs": [
        {
          "output_type": "stream",
          "name": "stdout",
          "text": [
            "1\n",
            "5\n"
          ]
        }
      ]
    },
    {
      "cell_type": "code",
      "source": [
        "# 3차원 : 텐서\n",
        "\n",
        "arr1 = np.arange(36).reshape(3,4,3)\n",
        "arr1"
      ],
      "metadata": {
        "colab": {
          "base_uri": "https://localhost:8080/"
        },
        "id": "RLqXPRLK8jf3",
        "outputId": "83fa845c-88b8-4d39-c813-c0dcb03ec624"
      },
      "execution_count": 15,
      "outputs": [
        {
          "output_type": "execute_result",
          "data": {
            "text/plain": [
              "array([[[ 0,  1,  2],\n",
              "        [ 3,  4,  5],\n",
              "        [ 6,  7,  8],\n",
              "        [ 9, 10, 11]],\n",
              "\n",
              "       [[12, 13, 14],\n",
              "        [15, 16, 17],\n",
              "        [18, 19, 20],\n",
              "        [21, 22, 23]],\n",
              "\n",
              "       [[24, 25, 26],\n",
              "        [27, 28, 29],\n",
              "        [30, 31, 32],\n",
              "        [33, 34, 35]]])"
            ]
          },
          "metadata": {},
          "execution_count": 15
        }
      ]
    },
    {
      "cell_type": "code",
      "source": [
        "arr1[0]"
      ],
      "metadata": {
        "colab": {
          "base_uri": "https://localhost:8080/"
        },
        "id": "Rb_ZhhcI80TP",
        "outputId": "4a872350-4437-4c02-e618-343d0f3f0b16"
      },
      "execution_count": 16,
      "outputs": [
        {
          "output_type": "execute_result",
          "data": {
            "text/plain": [
              "array([[ 0,  1,  2],\n",
              "       [ 3,  4,  5],\n",
              "       [ 6,  7,  8],\n",
              "       [ 9, 10, 11]])"
            ]
          },
          "metadata": {},
          "execution_count": 16
        }
      ]
    },
    {
      "cell_type": "code",
      "source": [
        "arr1[0,1]"
      ],
      "metadata": {
        "colab": {
          "base_uri": "https://localhost:8080/"
        },
        "id": "_CA3ETVz8_En",
        "outputId": "4fcddb70-611b-4110-e7ed-0e6838dbf488"
      },
      "execution_count": 17,
      "outputs": [
        {
          "output_type": "execute_result",
          "data": {
            "text/plain": [
              "array([3, 4, 5])"
            ]
          },
          "metadata": {},
          "execution_count": 17
        }
      ]
    },
    {
      "cell_type": "code",
      "source": [
        "arr1[0,1,-1]"
      ],
      "metadata": {
        "colab": {
          "base_uri": "https://localhost:8080/"
        },
        "id": "HaLnbOwB9Cde",
        "outputId": "0e89cabc-5e07-4346-8839-dfa29867081f"
      },
      "execution_count": 20,
      "outputs": [
        {
          "output_type": "execute_result",
          "data": {
            "text/plain": [
              "5"
            ]
          },
          "metadata": {},
          "execution_count": 20
        }
      ]
    },
    {
      "cell_type": "code",
      "source": [
        "# 16 출력\n",
        "\n",
        "arr1[1,1,1]"
      ],
      "metadata": {
        "colab": {
          "base_uri": "https://localhost:8080/"
        },
        "id": "rcQauZyq9E6g",
        "outputId": "ce895195-b662-462c-baa1-c056b3f7713c"
      },
      "execution_count": 21,
      "outputs": [
        {
          "output_type": "execute_result",
          "data": {
            "text/plain": [
              "16"
            ]
          },
          "metadata": {},
          "execution_count": 21
        }
      ]
    },
    {
      "cell_type": "code",
      "source": [
        "# 슬라이싱\n",
        "arr1 = np.arange(1,10)\n",
        "arr1"
      ],
      "metadata": {
        "colab": {
          "base_uri": "https://localhost:8080/"
        },
        "id": "bDxAUVuR9Oi3",
        "outputId": "1818876f-18a3-439e-e4c1-a59a22f04029"
      },
      "execution_count": 23,
      "outputs": [
        {
          "output_type": "execute_result",
          "data": {
            "text/plain": [
              "array([1, 2, 3, 4, 5, 6, 7, 8, 9])"
            ]
          },
          "metadata": {},
          "execution_count": 23
        }
      ]
    },
    {
      "cell_type": "code",
      "source": [
        "arr1[0:3]\n",
        "arr1[:3]\n",
        "arr1[3:]"
      ],
      "metadata": {
        "colab": {
          "base_uri": "https://localhost:8080/"
        },
        "id": "upcTzNx89hBH",
        "outputId": "a33b69d3-dd71-42b2-b21c-bc68311c74a1"
      },
      "execution_count": 26,
      "outputs": [
        {
          "output_type": "execute_result",
          "data": {
            "text/plain": [
              "array([4, 5, 6, 7, 8, 9])"
            ]
          },
          "metadata": {},
          "execution_count": 26
        }
      ]
    },
    {
      "cell_type": "code",
      "source": [
        "arr1 = np.arange(1,10).reshape(3,3)\n",
        "arr1"
      ],
      "metadata": {
        "colab": {
          "base_uri": "https://localhost:8080/"
        },
        "id": "aj3ErTsX9j9X",
        "outputId": "4fd3d461-dcf1-41ab-e36c-0dfd9eff93ed"
      },
      "execution_count": 27,
      "outputs": [
        {
          "output_type": "execute_result",
          "data": {
            "text/plain": [
              "array([[1, 2, 3],\n",
              "       [4, 5, 6],\n",
              "       [7, 8, 9]])"
            ]
          },
          "metadata": {},
          "execution_count": 27
        }
      ]
    },
    {
      "cell_type": "code",
      "source": [
        "# 1과 4 출력\n",
        "\n",
        "arr1[:2,:1]"
      ],
      "metadata": {
        "colab": {
          "base_uri": "https://localhost:8080/"
        },
        "id": "bMHwW41W9uND",
        "outputId": "0193735c-01b1-403c-ef2e-2eeb0ea34bbb"
      },
      "execution_count": 29,
      "outputs": [
        {
          "output_type": "execute_result",
          "data": {
            "text/plain": [
              "array([[1],\n",
              "       [4]])"
            ]
          },
          "metadata": {},
          "execution_count": 29
        }
      ]
    },
    {
      "cell_type": "code",
      "source": [
        "arr1[1:3, :]"
      ],
      "metadata": {
        "colab": {
          "base_uri": "https://localhost:8080/"
        },
        "id": "Gur78v3695ZI",
        "outputId": "9ac0479d-80e9-4efc-9dac-75ae266ccf96"
      },
      "execution_count": 32,
      "outputs": [
        {
          "output_type": "execute_result",
          "data": {
            "text/plain": [
              "array([[4, 5, 6],\n",
              "       [7, 8, 9]])"
            ]
          },
          "metadata": {},
          "execution_count": 32
        }
      ]
    },
    {
      "cell_type": "code",
      "source": [
        "arr1[arr1>5]"
      ],
      "metadata": {
        "colab": {
          "base_uri": "https://localhost:8080/"
        },
        "id": "0W99SfCY-HGP",
        "outputId": "d5a73fd5-67ed-4054-a9de-096f7b6049c2"
      },
      "execution_count": 33,
      "outputs": [
        {
          "output_type": "execute_result",
          "data": {
            "text/plain": [
              "array([6, 7, 8, 9])"
            ]
          },
          "metadata": {},
          "execution_count": 33
        }
      ]
    },
    {
      "cell_type": "markdown",
      "source": [
        "### 데이터 형태 변경"
      ],
      "metadata": {
        "id": "B9s9HUjH-peh"
      }
    },
    {
      "cell_type": "code",
      "source": [
        "y = np.arange(15).reshape(3,5)\n",
        "y"
      ],
      "metadata": {
        "colab": {
          "base_uri": "https://localhost:8080/"
        },
        "id": "uM1ODxXA-XLn",
        "outputId": "2cc629c4-f783-49a2-9ec3-e41f90396e0f"
      },
      "execution_count": 34,
      "outputs": [
        {
          "output_type": "execute_result",
          "data": {
            "text/plain": [
              "array([[ 0,  1,  2,  3,  4],\n",
              "       [ 5,  6,  7,  8,  9],\n",
              "       [10, 11, 12, 13, 14]])"
            ]
          },
          "metadata": {},
          "execution_count": 34
        }
      ]
    },
    {
      "cell_type": "code",
      "source": [
        "# 2차원 이상의 배열을 1차원으로 변환\n",
        "\n",
        "y.flatten()"
      ],
      "metadata": {
        "colab": {
          "base_uri": "https://localhost:8080/"
        },
        "id": "1oT3lGRJ-5Wg",
        "outputId": "56e180d6-89ba-462a-fe82-750825183da9"
      },
      "execution_count": 35,
      "outputs": [
        {
          "output_type": "execute_result",
          "data": {
            "text/plain": [
              "array([ 0,  1,  2,  3,  4,  5,  6,  7,  8,  9, 10, 11, 12, 13, 14])"
            ]
          },
          "metadata": {},
          "execution_count": 35
        }
      ]
    },
    {
      "cell_type": "code",
      "source": [
        "# 2행 3열\n",
        "\n",
        "x = np.arange(30).reshape(2,3,5)\n",
        "x"
      ],
      "metadata": {
        "colab": {
          "base_uri": "https://localhost:8080/"
        },
        "id": "wLOzbS8x_AAI",
        "outputId": "aa666c6c-928f-4fa4-9e75-59011b5975a4"
      },
      "execution_count": 40,
      "outputs": [
        {
          "output_type": "execute_result",
          "data": {
            "text/plain": [
              "array([[[ 0,  1,  2,  3,  4],\n",
              "        [ 5,  6,  7,  8,  9],\n",
              "        [10, 11, 12, 13, 14]],\n",
              "\n",
              "       [[15, 16, 17, 18, 19],\n",
              "        [20, 21, 22, 23, 24],\n",
              "        [25, 26, 27, 28, 29]]])"
            ]
          },
          "metadata": {},
          "execution_count": 40
        }
      ]
    },
    {
      "cell_type": "code",
      "source": [
        "x.flatten()"
      ],
      "metadata": {
        "colab": {
          "base_uri": "https://localhost:8080/"
        },
        "id": "qsx_Pt1i_KuQ",
        "outputId": "124aa50f-cbfe-4cca-9bce-b6f4c0b73003"
      },
      "execution_count": 41,
      "outputs": [
        {
          "output_type": "execute_result",
          "data": {
            "text/plain": [
              "array([ 0,  1,  2,  3,  4,  5,  6,  7,  8,  9, 10, 11, 12, 13, 14, 15, 16,\n",
              "       17, 18, 19, 20, 21, 22, 23, 24, 25, 26, 27, 28, 29])"
            ]
          },
          "metadata": {},
          "execution_count": 41
        }
      ]
    },
    {
      "cell_type": "markdown",
      "source": [
        "### ndarray 기본 함수\n",
        "- add(), subtract(), multiply(), divide() 기본함수 제공"
      ],
      "metadata": {
        "id": "2supKU1j_pIg"
      }
    },
    {
      "cell_type": "code",
      "source": [
        "x = np.array([[4,4,4],[8,8,8]])\n",
        "y = np.array([[1,1,1],[2,2,2]])"
      ],
      "metadata": {
        "id": "6Bm38vYI_gVg"
      },
      "execution_count": 42,
      "outputs": []
    },
    {
      "cell_type": "code",
      "source": [
        "x + y"
      ],
      "metadata": {
        "colab": {
          "base_uri": "https://localhost:8080/"
        },
        "id": "yvn95-cLAACB",
        "outputId": "9e3ef645-9be5-4497-d21c-6a5ed5e1f1d6"
      },
      "execution_count": 43,
      "outputs": [
        {
          "output_type": "execute_result",
          "data": {
            "text/plain": [
              "array([[ 5,  5,  5],\n",
              "       [10, 10, 10]])"
            ]
          },
          "metadata": {},
          "execution_count": 43
        }
      ]
    },
    {
      "cell_type": "code",
      "source": [
        "x - y"
      ],
      "metadata": {
        "colab": {
          "base_uri": "https://localhost:8080/"
        },
        "id": "AUAaFzOxACag",
        "outputId": "8097d64a-8125-4f2a-c709-f9f6b440536a"
      },
      "execution_count": 44,
      "outputs": [
        {
          "output_type": "execute_result",
          "data": {
            "text/plain": [
              "array([[3, 3, 3],\n",
              "       [6, 6, 6]])"
            ]
          },
          "metadata": {},
          "execution_count": 44
        }
      ]
    },
    {
      "cell_type": "code",
      "source": [
        "x * y"
      ],
      "metadata": {
        "colab": {
          "base_uri": "https://localhost:8080/"
        },
        "id": "YaVmVTlEAIsz",
        "outputId": "957f0bc0-c78d-4f03-fdbe-ee13eb01dcf5"
      },
      "execution_count": 45,
      "outputs": [
        {
          "output_type": "execute_result",
          "data": {
            "text/plain": [
              "array([[ 4,  4,  4],\n",
              "       [16, 16, 16]])"
            ]
          },
          "metadata": {},
          "execution_count": 45
        }
      ]
    },
    {
      "cell_type": "code",
      "source": [
        "x / y"
      ],
      "metadata": {
        "colab": {
          "base_uri": "https://localhost:8080/"
        },
        "id": "nOqIQdnKAPZI",
        "outputId": "0aad2e42-e110-49a9-c3ea-206ab3558faf"
      },
      "execution_count": 46,
      "outputs": [
        {
          "output_type": "execute_result",
          "data": {
            "text/plain": [
              "array([[4., 4., 4.],\n",
              "       [4., 4., 4.]])"
            ]
          },
          "metadata": {},
          "execution_count": 46
        }
      ]
    },
    {
      "cell_type": "code",
      "source": [
        "np.add(x,y)"
      ],
      "metadata": {
        "colab": {
          "base_uri": "https://localhost:8080/"
        },
        "id": "XuR925TEARXA",
        "outputId": "b29b2937-684a-4ac5-fea6-1990017cc8e5"
      },
      "execution_count": 47,
      "outputs": [
        {
          "output_type": "execute_result",
          "data": {
            "text/plain": [
              "array([[ 5,  5,  5],\n",
              "       [10, 10, 10]])"
            ]
          },
          "metadata": {},
          "execution_count": 47
        }
      ]
    },
    {
      "cell_type": "code",
      "source": [
        "np.subtract(x,y)"
      ],
      "metadata": {
        "colab": {
          "base_uri": "https://localhost:8080/"
        },
        "id": "wIETbIL6AZXp",
        "outputId": "020c0214-b3fc-48eb-d163-e10ea92afa79"
      },
      "execution_count": 48,
      "outputs": [
        {
          "output_type": "execute_result",
          "data": {
            "text/plain": [
              "array([[3, 3, 3],\n",
              "       [6, 6, 6]])"
            ]
          },
          "metadata": {},
          "execution_count": 48
        }
      ]
    },
    {
      "cell_type": "code",
      "source": [
        "np.multiply(x,y)"
      ],
      "metadata": {
        "colab": {
          "base_uri": "https://localhost:8080/"
        },
        "id": "2bvRDrXxAcSA",
        "outputId": "05fd54f4-57e7-4715-b674-8744a5d3d939"
      },
      "execution_count": 49,
      "outputs": [
        {
          "output_type": "execute_result",
          "data": {
            "text/plain": [
              "array([[ 4,  4,  4],\n",
              "       [16, 16, 16]])"
            ]
          },
          "metadata": {},
          "execution_count": 49
        }
      ]
    },
    {
      "cell_type": "code",
      "source": [
        "np.divide(x,y)"
      ],
      "metadata": {
        "colab": {
          "base_uri": "https://localhost:8080/"
        },
        "id": "7N4ydbVBAgBS",
        "outputId": "6e8aec4b-e2f9-4306-94dc-d31c7452c8cf"
      },
      "execution_count": 50,
      "outputs": [
        {
          "output_type": "execute_result",
          "data": {
            "text/plain": [
              "array([[4., 4., 4.],\n",
              "       [4., 4., 4.]])"
            ]
          },
          "metadata": {},
          "execution_count": 50
        }
      ]
    },
    {
      "cell_type": "code",
      "source": [
        "x = np.random.rand(15)\n",
        "x"
      ],
      "metadata": {
        "colab": {
          "base_uri": "https://localhost:8080/"
        },
        "id": "Npx1evLRAh54",
        "outputId": "ddfd0dc9-3520-42de-a2a6-b74110a361d0"
      },
      "execution_count": 54,
      "outputs": [
        {
          "output_type": "execute_result",
          "data": {
            "text/plain": [
              "array([0.27527877, 0.10268944, 0.09207659, 0.85574278, 0.7547835 ,\n",
              "       0.36064195, 0.03971011, 0.88210098, 0.50737996, 0.73691749,\n",
              "       0.8361513 , 0.15280743, 0.50877979, 0.90080608, 0.25138757])"
            ]
          },
          "metadata": {},
          "execution_count": 54
        }
      ]
    },
    {
      "cell_type": "code",
      "source": [
        "# 평균\n",
        "x.mean()"
      ],
      "metadata": {
        "colab": {
          "base_uri": "https://localhost:8080/"
        },
        "id": "HtQBoC-FAynB",
        "outputId": "7b9228d3-5fc6-404d-834b-703d7da54a68"
      },
      "execution_count": 55,
      "outputs": [
        {
          "output_type": "execute_result",
          "data": {
            "text/plain": [
              "0.48381691774292096"
            ]
          },
          "metadata": {},
          "execution_count": 55
        }
      ]
    },
    {
      "cell_type": "code",
      "source": [
        "# 최대값의 인덱스 번호를 반환\n",
        "x.argmax()"
      ],
      "metadata": {
        "colab": {
          "base_uri": "https://localhost:8080/"
        },
        "id": "2cCTnUaeA0Uk",
        "outputId": "5ad1f8ca-7f01-4a89-c134-213394378462"
      },
      "execution_count": 56,
      "outputs": [
        {
          "output_type": "execute_result",
          "data": {
            "text/plain": [
              "13"
            ]
          },
          "metadata": {},
          "execution_count": 56
        }
      ]
    },
    {
      "cell_type": "code",
      "source": [
        "# 표준편차\n",
        "x.std()"
      ],
      "metadata": {
        "colab": {
          "base_uri": "https://localhost:8080/"
        },
        "id": "9Dyk_ZO-A-9o",
        "outputId": "392de1fa-7f08-4082-d98c-d8710a1131ea"
      },
      "execution_count": 57,
      "outputs": [
        {
          "output_type": "execute_result",
          "data": {
            "text/plain": [
              "0.3111098489711636"
            ]
          },
          "metadata": {},
          "execution_count": 57
        }
      ]
    },
    {
      "cell_type": "code",
      "source": [
        "x.sum()"
      ],
      "metadata": {
        "colab": {
          "base_uri": "https://localhost:8080/"
        },
        "id": "97mFe8MjBN7Z",
        "outputId": "ccbea2e8-fcc3-434d-9c7c-1ea1edd9fb35"
      },
      "execution_count": 58,
      "outputs": [
        {
          "output_type": "execute_result",
          "data": {
            "text/plain": [
              "7.257253766143815"
            ]
          },
          "metadata": {},
          "execution_count": 58
        }
      ]
    },
    {
      "cell_type": "code",
      "source": [
        "# 이전 요소와 순차적으로 덧셈합\n",
        "x.cumsum()"
      ],
      "metadata": {
        "colab": {
          "base_uri": "https://localhost:8080/"
        },
        "id": "xyw1Z3HUBWAo",
        "outputId": "12169e32-dca6-4525-a684-09d89f0773b6"
      },
      "execution_count": 59,
      "outputs": [
        {
          "output_type": "execute_result",
          "data": {
            "text/plain": [
              "array([0.27527877, 0.37796821, 0.4700448 , 1.32578758, 2.08057109,\n",
              "       2.44121304, 2.48092316, 3.36302413, 3.87040409, 4.60732159,\n",
              "       5.44347289, 5.59628032, 6.10506012, 7.00586619, 7.25725377])"
            ]
          },
          "metadata": {},
          "execution_count": 59
        }
      ]
    }
  ]
}